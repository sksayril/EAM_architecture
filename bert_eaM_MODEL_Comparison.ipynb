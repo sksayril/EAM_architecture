{
  "nbformat": 4,
  "nbformat_minor": 0,
  "metadata": {
    "colab": {
      "provenance": [],
      "gpuType": "T4"
    },
    "kernelspec": {
      "name": "python3",
      "display_name": "Python 3"
    },
    "language_info": {
      "name": "python"
    },
    "accelerator": "GPU"
  },
  "cells": [
    {
      "cell_type": "code",
      "execution_count": 1,
      "metadata": {
        "colab": {
          "base_uri": "https://localhost:8080/"
        },
        "id": "-v3zvkQaA4zK",
        "outputId": "5b95783c-199e-428b-d196-038d0e0f5461"
      },
      "outputs": [
        {
          "output_type": "stream",
          "name": "stdout",
          "text": [
            "Requirement already satisfied: torch in /usr/local/lib/python3.10/dist-packages (2.4.1)\n",
            "Requirement already satisfied: pandas in /usr/local/lib/python3.10/dist-packages (2.2.2)\n",
            "Requirement already satisfied: transformers in /usr/local/lib/python3.10/dist-packages (4.44.2)\n",
            "Requirement already satisfied: matplotlib in /usr/local/lib/python3.10/dist-packages (3.7.1)\n",
            "Requirement already satisfied: filelock in /usr/local/lib/python3.10/dist-packages (from torch) (3.16.1)\n",
            "Requirement already satisfied: typing-extensions>=4.8.0 in /usr/local/lib/python3.10/dist-packages (from torch) (4.12.2)\n",
            "Requirement already satisfied: sympy in /usr/local/lib/python3.10/dist-packages (from torch) (1.13.3)\n",
            "Requirement already satisfied: networkx in /usr/local/lib/python3.10/dist-packages (from torch) (3.3)\n",
            "Requirement already satisfied: jinja2 in /usr/local/lib/python3.10/dist-packages (from torch) (3.1.4)\n",
            "Requirement already satisfied: fsspec in /usr/local/lib/python3.10/dist-packages (from torch) (2024.6.1)\n",
            "Requirement already satisfied: nvidia-cuda-nvrtc-cu12==12.1.105 in /usr/local/lib/python3.10/dist-packages (from torch) (12.1.105)\n",
            "Requirement already satisfied: nvidia-cuda-runtime-cu12==12.1.105 in /usr/local/lib/python3.10/dist-packages (from torch) (12.1.105)\n",
            "Requirement already satisfied: nvidia-cuda-cupti-cu12==12.1.105 in /usr/local/lib/python3.10/dist-packages (from torch) (12.1.105)\n",
            "Requirement already satisfied: nvidia-cudnn-cu12==9.1.0.70 in /usr/local/lib/python3.10/dist-packages (from torch) (9.1.0.70)\n",
            "Requirement already satisfied: nvidia-cublas-cu12==12.1.3.1 in /usr/local/lib/python3.10/dist-packages (from torch) (12.1.3.1)\n",
            "Requirement already satisfied: nvidia-cufft-cu12==11.0.2.54 in /usr/local/lib/python3.10/dist-packages (from torch) (11.0.2.54)\n",
            "Requirement already satisfied: nvidia-curand-cu12==10.3.2.106 in /usr/local/lib/python3.10/dist-packages (from torch) (10.3.2.106)\n",
            "Requirement already satisfied: nvidia-cusolver-cu12==11.4.5.107 in /usr/local/lib/python3.10/dist-packages (from torch) (11.4.5.107)\n",
            "Requirement already satisfied: nvidia-cusparse-cu12==12.1.0.106 in /usr/local/lib/python3.10/dist-packages (from torch) (12.1.0.106)\n",
            "Requirement already satisfied: nvidia-nccl-cu12==2.20.5 in /usr/local/lib/python3.10/dist-packages (from torch) (2.20.5)\n",
            "Requirement already satisfied: nvidia-nvtx-cu12==12.1.105 in /usr/local/lib/python3.10/dist-packages (from torch) (12.1.105)\n",
            "Requirement already satisfied: triton==3.0.0 in /usr/local/lib/python3.10/dist-packages (from torch) (3.0.0)\n",
            "Requirement already satisfied: nvidia-nvjitlink-cu12 in /usr/local/lib/python3.10/dist-packages (from nvidia-cusolver-cu12==11.4.5.107->torch) (12.6.68)\n",
            "Requirement already satisfied: numpy>=1.22.4 in /usr/local/lib/python3.10/dist-packages (from pandas) (1.26.4)\n",
            "Requirement already satisfied: python-dateutil>=2.8.2 in /usr/local/lib/python3.10/dist-packages (from pandas) (2.8.2)\n",
            "Requirement already satisfied: pytz>=2020.1 in /usr/local/lib/python3.10/dist-packages (from pandas) (2024.2)\n",
            "Requirement already satisfied: tzdata>=2022.7 in /usr/local/lib/python3.10/dist-packages (from pandas) (2024.2)\n",
            "Requirement already satisfied: huggingface-hub<1.0,>=0.23.2 in /usr/local/lib/python3.10/dist-packages (from transformers) (0.24.7)\n",
            "Requirement already satisfied: packaging>=20.0 in /usr/local/lib/python3.10/dist-packages (from transformers) (24.1)\n",
            "Requirement already satisfied: pyyaml>=5.1 in /usr/local/lib/python3.10/dist-packages (from transformers) (6.0.2)\n",
            "Requirement already satisfied: regex!=2019.12.17 in /usr/local/lib/python3.10/dist-packages (from transformers) (2024.9.11)\n",
            "Requirement already satisfied: requests in /usr/local/lib/python3.10/dist-packages (from transformers) (2.32.3)\n",
            "Requirement already satisfied: safetensors>=0.4.1 in /usr/local/lib/python3.10/dist-packages (from transformers) (0.4.5)\n",
            "Requirement already satisfied: tokenizers<0.20,>=0.19 in /usr/local/lib/python3.10/dist-packages (from transformers) (0.19.1)\n",
            "Requirement already satisfied: tqdm>=4.27 in /usr/local/lib/python3.10/dist-packages (from transformers) (4.66.5)\n",
            "Requirement already satisfied: contourpy>=1.0.1 in /usr/local/lib/python3.10/dist-packages (from matplotlib) (1.3.0)\n",
            "Requirement already satisfied: cycler>=0.10 in /usr/local/lib/python3.10/dist-packages (from matplotlib) (0.12.1)\n",
            "Requirement already satisfied: fonttools>=4.22.0 in /usr/local/lib/python3.10/dist-packages (from matplotlib) (4.54.1)\n",
            "Requirement already satisfied: kiwisolver>=1.0.1 in /usr/local/lib/python3.10/dist-packages (from matplotlib) (1.4.7)\n",
            "Requirement already satisfied: pillow>=6.2.0 in /usr/local/lib/python3.10/dist-packages (from matplotlib) (10.4.0)\n",
            "Requirement already satisfied: pyparsing>=2.3.1 in /usr/local/lib/python3.10/dist-packages (from matplotlib) (3.1.4)\n",
            "Requirement already satisfied: six>=1.5 in /usr/local/lib/python3.10/dist-packages (from python-dateutil>=2.8.2->pandas) (1.16.0)\n",
            "Requirement already satisfied: MarkupSafe>=2.0 in /usr/local/lib/python3.10/dist-packages (from jinja2->torch) (2.1.5)\n",
            "Requirement already satisfied: charset-normalizer<4,>=2 in /usr/local/lib/python3.10/dist-packages (from requests->transformers) (3.3.2)\n",
            "Requirement already satisfied: idna<4,>=2.5 in /usr/local/lib/python3.10/dist-packages (from requests->transformers) (3.10)\n",
            "Requirement already satisfied: urllib3<3,>=1.21.1 in /usr/local/lib/python3.10/dist-packages (from requests->transformers) (2.2.3)\n",
            "Requirement already satisfied: certifi>=2017.4.17 in /usr/local/lib/python3.10/dist-packages (from requests->transformers) (2024.8.30)\n",
            "Requirement already satisfied: mpmath<1.4,>=1.1.0 in /usr/local/lib/python3.10/dist-packages (from sympy->torch) (1.3.0)\n"
          ]
        }
      ],
      "source": [
        "!pip install torch pandas transformers matplotlib\n"
      ]
    },
    {
      "cell_type": "code",
      "source": [
        "!pip install torch\n"
      ],
      "metadata": {
        "colab": {
          "base_uri": "https://localhost:8080/",
          "height": 1000
        },
        "id": "Ezc3CNxbER1f",
        "outputId": "905ff06b-4a16-4898-bc26-35210d27381c"
      },
      "execution_count": 7,
      "outputs": [
        {
          "output_type": "stream",
          "name": "stdout",
          "text": [
            "Collecting torch\n",
            "  Downloading torch-2.4.1-cp310-cp310-manylinux1_x86_64.whl.metadata (26 kB)\n",
            "Requirement already satisfied: filelock in /usr/local/lib/python3.10/dist-packages (from torch) (3.16.1)\n",
            "Requirement already satisfied: typing-extensions>=4.8.0 in /usr/local/lib/python3.10/dist-packages (from torch) (4.12.2)\n",
            "Requirement already satisfied: sympy in /usr/local/lib/python3.10/dist-packages (from torch) (1.13.3)\n",
            "Requirement already satisfied: networkx in /usr/local/lib/python3.10/dist-packages (from torch) (3.3)\n",
            "Requirement already satisfied: jinja2 in /usr/local/lib/python3.10/dist-packages (from torch) (3.1.4)\n",
            "Requirement already satisfied: fsspec in /usr/local/lib/python3.10/dist-packages (from torch) (2024.6.1)\n",
            "Collecting nvidia-cuda-nvrtc-cu12==12.1.105 (from torch)\n",
            "  Downloading nvidia_cuda_nvrtc_cu12-12.1.105-py3-none-manylinux1_x86_64.whl.metadata (1.5 kB)\n",
            "Collecting nvidia-cuda-runtime-cu12==12.1.105 (from torch)\n",
            "  Downloading nvidia_cuda_runtime_cu12-12.1.105-py3-none-manylinux1_x86_64.whl.metadata (1.5 kB)\n",
            "Collecting nvidia-cuda-cupti-cu12==12.1.105 (from torch)\n",
            "  Downloading nvidia_cuda_cupti_cu12-12.1.105-py3-none-manylinux1_x86_64.whl.metadata (1.6 kB)\n",
            "Collecting nvidia-cudnn-cu12==9.1.0.70 (from torch)\n",
            "  Downloading nvidia_cudnn_cu12-9.1.0.70-py3-none-manylinux2014_x86_64.whl.metadata (1.6 kB)\n",
            "Collecting nvidia-cublas-cu12==12.1.3.1 (from torch)\n",
            "  Downloading nvidia_cublas_cu12-12.1.3.1-py3-none-manylinux1_x86_64.whl.metadata (1.5 kB)\n",
            "Collecting nvidia-cufft-cu12==11.0.2.54 (from torch)\n",
            "  Downloading nvidia_cufft_cu12-11.0.2.54-py3-none-manylinux1_x86_64.whl.metadata (1.5 kB)\n",
            "Collecting nvidia-curand-cu12==10.3.2.106 (from torch)\n",
            "  Downloading nvidia_curand_cu12-10.3.2.106-py3-none-manylinux1_x86_64.whl.metadata (1.5 kB)\n",
            "Collecting nvidia-cusolver-cu12==11.4.5.107 (from torch)\n",
            "  Downloading nvidia_cusolver_cu12-11.4.5.107-py3-none-manylinux1_x86_64.whl.metadata (1.6 kB)\n",
            "Collecting nvidia-cusparse-cu12==12.1.0.106 (from torch)\n",
            "  Downloading nvidia_cusparse_cu12-12.1.0.106-py3-none-manylinux1_x86_64.whl.metadata (1.6 kB)\n",
            "Collecting nvidia-nccl-cu12==2.20.5 (from torch)\n",
            "  Downloading nvidia_nccl_cu12-2.20.5-py3-none-manylinux2014_x86_64.whl.metadata (1.8 kB)\n",
            "Collecting nvidia-nvtx-cu12==12.1.105 (from torch)\n",
            "  Downloading nvidia_nvtx_cu12-12.1.105-py3-none-manylinux1_x86_64.whl.metadata (1.7 kB)\n",
            "Collecting triton==3.0.0 (from torch)\n",
            "  Downloading triton-3.0.0-1-cp310-cp310-manylinux2014_x86_64.manylinux_2_17_x86_64.whl.metadata (1.3 kB)\n",
            "Requirement already satisfied: nvidia-nvjitlink-cu12 in /usr/local/lib/python3.10/dist-packages (from nvidia-cusolver-cu12==11.4.5.107->torch) (12.6.68)\n",
            "Requirement already satisfied: MarkupSafe>=2.0 in /usr/local/lib/python3.10/dist-packages (from jinja2->torch) (2.1.5)\n",
            "Requirement already satisfied: mpmath<1.4,>=1.1.0 in /usr/local/lib/python3.10/dist-packages (from sympy->torch) (1.3.0)\n",
            "Downloading torch-2.4.1-cp310-cp310-manylinux1_x86_64.whl (797.1 MB)\n",
            "\u001b[2K   \u001b[90m━━━━━━━━━━━━━━━━━━━━━━━━━━━━━━━━━━━━━━━━\u001b[0m \u001b[32m797.1/797.1 MB\u001b[0m \u001b[31m1.7 MB/s\u001b[0m eta \u001b[36m0:00:00\u001b[0m\n",
            "\u001b[?25hDownloading nvidia_cublas_cu12-12.1.3.1-py3-none-manylinux1_x86_64.whl (410.6 MB)\n",
            "\u001b[2K   \u001b[90m━━━━━━━━━━━━━━━━━━━━━━━━━━━━━━━━━━━━━━━━\u001b[0m \u001b[32m410.6/410.6 MB\u001b[0m \u001b[31m3.9 MB/s\u001b[0m eta \u001b[36m0:00:00\u001b[0m\n",
            "\u001b[?25hDownloading nvidia_cuda_cupti_cu12-12.1.105-py3-none-manylinux1_x86_64.whl (14.1 MB)\n",
            "\u001b[2K   \u001b[90m━━━━━━━━━━━━━━━━━━━━━━━━━━━━━━━━━━━━━━━━\u001b[0m \u001b[32m14.1/14.1 MB\u001b[0m \u001b[31m64.7 MB/s\u001b[0m eta \u001b[36m0:00:00\u001b[0m\n",
            "\u001b[?25hDownloading nvidia_cuda_nvrtc_cu12-12.1.105-py3-none-manylinux1_x86_64.whl (23.7 MB)\n",
            "\u001b[2K   \u001b[90m━━━━━━━━━━━━━━━━━━━━━━━━━━━━━━━━━━━━━━━━\u001b[0m \u001b[32m23.7/23.7 MB\u001b[0m \u001b[31m37.8 MB/s\u001b[0m eta \u001b[36m0:00:00\u001b[0m\n",
            "\u001b[?25hDownloading nvidia_cuda_runtime_cu12-12.1.105-py3-none-manylinux1_x86_64.whl (823 kB)\n",
            "\u001b[2K   \u001b[90m━━━━━━━━━━━━━━━━━━━━━━━━━━━━━━━━━━━━━━━━\u001b[0m \u001b[32m823.6/823.6 kB\u001b[0m \u001b[31m39.4 MB/s\u001b[0m eta \u001b[36m0:00:00\u001b[0m\n",
            "\u001b[?25hDownloading nvidia_cudnn_cu12-9.1.0.70-py3-none-manylinux2014_x86_64.whl (664.8 MB)\n",
            "\u001b[2K   \u001b[90m━━━━━━━━━━━━━━━━━━━━━━━━━━━━━━━━━━━━━━━━\u001b[0m \u001b[32m664.8/664.8 MB\u001b[0m \u001b[31m3.1 MB/s\u001b[0m eta \u001b[36m0:00:00\u001b[0m\n",
            "\u001b[?25hDownloading nvidia_cufft_cu12-11.0.2.54-py3-none-manylinux1_x86_64.whl (121.6 MB)\n",
            "\u001b[2K   \u001b[90m━━━━━━━━━━━━━━━━━━━━━━━━━━━━━━━━━━━━━━━━\u001b[0m \u001b[32m121.6/121.6 MB\u001b[0m \u001b[31m7.5 MB/s\u001b[0m eta \u001b[36m0:00:00\u001b[0m\n",
            "\u001b[?25hDownloading nvidia_curand_cu12-10.3.2.106-py3-none-manylinux1_x86_64.whl (56.5 MB)\n",
            "\u001b[2K   \u001b[90m━━━━━━━━━━━━━━━━━━━━━━━━━━━━━━━━━━━━━━━━\u001b[0m \u001b[32m56.5/56.5 MB\u001b[0m \u001b[31m13.4 MB/s\u001b[0m eta \u001b[36m0:00:00\u001b[0m\n",
            "\u001b[?25hDownloading nvidia_cusolver_cu12-11.4.5.107-py3-none-manylinux1_x86_64.whl (124.2 MB)\n",
            "\u001b[2K   \u001b[90m━━━━━━━━━━━━━━━━━━━━━━━━━━━━━━━━━━━━━━━━\u001b[0m \u001b[32m124.2/124.2 MB\u001b[0m \u001b[31m8.8 MB/s\u001b[0m eta \u001b[36m0:00:00\u001b[0m\n",
            "\u001b[?25hDownloading nvidia_cusparse_cu12-12.1.0.106-py3-none-manylinux1_x86_64.whl (196.0 MB)\n",
            "\u001b[2K   \u001b[90m━━━━━━━━━━━━━━━━━━━━━━━━━━━━━━━━━━━━━━━━\u001b[0m \u001b[32m196.0/196.0 MB\u001b[0m \u001b[31m6.3 MB/s\u001b[0m eta \u001b[36m0:00:00\u001b[0m\n",
            "\u001b[?25hDownloading nvidia_nccl_cu12-2.20.5-py3-none-manylinux2014_x86_64.whl (176.2 MB)\n",
            "\u001b[2K   \u001b[90m━━━━━━━━━━━━━━━━━━━━━━━━━━━━━━━━━━━━━━━━\u001b[0m \u001b[32m176.2/176.2 MB\u001b[0m \u001b[31m8.0 MB/s\u001b[0m eta \u001b[36m0:00:00\u001b[0m\n",
            "\u001b[?25hDownloading nvidia_nvtx_cu12-12.1.105-py3-none-manylinux1_x86_64.whl (99 kB)\n",
            "\u001b[2K   \u001b[90m━━━━━━━━━━━━━━━━━━━━━━━━━━━━━━━━━━━━━━━━\u001b[0m \u001b[32m99.1/99.1 kB\u001b[0m \u001b[31m9.0 MB/s\u001b[0m eta \u001b[36m0:00:00\u001b[0m\n",
            "\u001b[?25hDownloading triton-3.0.0-1-cp310-cp310-manylinux2014_x86_64.manylinux_2_17_x86_64.whl (209.4 MB)\n",
            "\u001b[2K   \u001b[90m━━━━━━━━━━━━━━━━━━━━━━━━━━━━━━━━━━━━━━━━\u001b[0m \u001b[32m209.4/209.4 MB\u001b[0m \u001b[31m5.7 MB/s\u001b[0m eta \u001b[36m0:00:00\u001b[0m\n",
            "\u001b[?25hInstalling collected packages: triton, nvidia-nvtx-cu12, nvidia-nccl-cu12, nvidia-cusparse-cu12, nvidia-curand-cu12, nvidia-cufft-cu12, nvidia-cuda-runtime-cu12, nvidia-cuda-nvrtc-cu12, nvidia-cuda-cupti-cu12, nvidia-cublas-cu12, nvidia-cusolver-cu12, nvidia-cudnn-cu12, torch\n",
            "  Attempting uninstall: nvidia-nccl-cu12\n",
            "    Found existing installation: nvidia-nccl-cu12 2.23.4\n",
            "    Uninstalling nvidia-nccl-cu12-2.23.4:\n",
            "      Successfully uninstalled nvidia-nccl-cu12-2.23.4\n",
            "  Attempting uninstall: nvidia-cusparse-cu12\n",
            "    Found existing installation: nvidia-cusparse-cu12 12.5.3.3\n",
            "    Uninstalling nvidia-cusparse-cu12-12.5.3.3:\n",
            "      Successfully uninstalled nvidia-cusparse-cu12-12.5.3.3\n",
            "  Attempting uninstall: nvidia-cufft-cu12\n",
            "    Found existing installation: nvidia-cufft-cu12 11.2.6.59\n",
            "    Uninstalling nvidia-cufft-cu12-11.2.6.59:\n",
            "      Successfully uninstalled nvidia-cufft-cu12-11.2.6.59\n",
            "  Attempting uninstall: nvidia-cuda-runtime-cu12\n",
            "    Found existing installation: nvidia-cuda-runtime-cu12 12.6.68\n",
            "    Uninstalling nvidia-cuda-runtime-cu12-12.6.68:\n",
            "      Successfully uninstalled nvidia-cuda-runtime-cu12-12.6.68\n",
            "  Attempting uninstall: nvidia-cuda-cupti-cu12\n",
            "    Found existing installation: nvidia-cuda-cupti-cu12 12.6.68\n",
            "    Uninstalling nvidia-cuda-cupti-cu12-12.6.68:\n",
            "      Successfully uninstalled nvidia-cuda-cupti-cu12-12.6.68\n",
            "  Attempting uninstall: nvidia-cublas-cu12\n",
            "    Found existing installation: nvidia-cublas-cu12 12.6.1.4\n",
            "    Uninstalling nvidia-cublas-cu12-12.6.1.4:\n",
            "      Successfully uninstalled nvidia-cublas-cu12-12.6.1.4\n",
            "  Attempting uninstall: nvidia-cusolver-cu12\n",
            "    Found existing installation: nvidia-cusolver-cu12 11.6.4.69\n",
            "    Uninstalling nvidia-cusolver-cu12-11.6.4.69:\n",
            "      Successfully uninstalled nvidia-cusolver-cu12-11.6.4.69\n",
            "  Attempting uninstall: nvidia-cudnn-cu12\n",
            "    Found existing installation: nvidia-cudnn-cu12 9.4.0.58\n",
            "    Uninstalling nvidia-cudnn-cu12-9.4.0.58:\n",
            "      Successfully uninstalled nvidia-cudnn-cu12-9.4.0.58\n",
            "Successfully installed nvidia-cublas-cu12-12.1.3.1 nvidia-cuda-cupti-cu12-12.1.105 nvidia-cuda-nvrtc-cu12-12.1.105 nvidia-cuda-runtime-cu12-12.1.105 nvidia-cudnn-cu12-9.1.0.70 nvidia-cufft-cu12-11.0.2.54 nvidia-curand-cu12-10.3.2.106 nvidia-cusolver-cu12-11.4.5.107 nvidia-cusparse-cu12-12.1.0.106 nvidia-nccl-cu12-2.20.5 nvidia-nvtx-cu12-12.1.105 torch-2.4.1 triton-3.0.0\n"
          ]
        },
        {
          "output_type": "display_data",
          "data": {
            "application/vnd.colab-display-data+json": {
              "pip_warning": {
                "packages": [
                  "torchgen"
                ]
              },
              "id": "86cdbea13306475280513c108275812c"
            }
          },
          "metadata": {}
        }
      ]
    },
    {
      "cell_type": "code",
      "source": [
        "import torch\n",
        "import torch.optim as optim\n",
        "import torch.nn as nn\n",
        "from torch.utils.data import DataLoader, Dataset\n",
        "import pandas as pd\n",
        "import re\n",
        "from collections import Counter\n",
        "import matplotlib.pyplot as plt\n"
      ],
      "metadata": {
        "id": "5epmCpOpEEZv"
      },
      "execution_count": 2,
      "outputs": []
    },
    {
      "cell_type": "code",
      "source": [
        "import torch\n",
        "import torch.optim as optim\n",
        "import torch.nn as nn\n",
        "from torch.utils.data import DataLoader, Dataset\n",
        "import pandas as pd\n",
        "import re\n",
        "from collections import Counter\n",
        "import matplotlib.pyplot as plt\n",
        "\n",
        "# Custom tokenizer function to split text into words\n",
        "def custom_tokenizer(text):\n",
        "    tokens = re.findall(r'\\b\\w+\\b', text.lower())\n",
        "    return tokens\n",
        "\n",
        "# Dataset preparation using the custom tokenizer\n",
        "class CustomIntentDataset(Dataset):\n",
        "    def __init__(self, df, vocab, max_len):\n",
        "        self.df = df\n",
        "        self.texts = df['Description'].values\n",
        "        self.labels = df['Category'].values\n",
        "        self.vocab = vocab\n",
        "        self.max_len = max_len\n",
        "\n",
        "        # Map categories to numerical labels\n",
        "        self.label_mapping = {label: idx for idx, label in enumerate(df['Category'].unique())}\n",
        "        self.df['Category'] = self.df['Category'].map(self.label_mapping)\n",
        "\n",
        "    def __len__(self):\n",
        "        return len(self.df)\n",
        "\n",
        "    def __getitem__(self, idx):\n",
        "        text = self.texts[idx]\n",
        "        label = self.df['Category'].iloc[idx]\n",
        "\n",
        "        # Tokenize text\n",
        "        tokens = custom_tokenizer(text)\n",
        "        token_ids = [self.vocab.get(token, 0) for token in tokens]\n",
        "\n",
        "        # Apply padding or truncation\n",
        "        if len(token_ids) < self.max_len:\n",
        "            token_ids = token_ids + [self.vocab['<PAD>']] * (self.max_len - len(token_ids))\n",
        "        else:\n",
        "            token_ids = token_ids[:self.max_len]\n",
        "\n",
        "        return {\n",
        "            'input_ids': torch.tensor(token_ids, dtype=torch.long),\n",
        "            'label': torch.tensor(label, dtype=torch.long)\n",
        "        }\n",
        "\n",
        "# Token pooling class\n",
        "class TokenPooling(nn.Module):\n",
        "    def __init__(self, pool_factor=2):\n",
        "        super(TokenPooling, self).__init__()\n",
        "        self.pool_factor = pool_factor\n",
        "\n",
        "    def forward(self, x):\n",
        "        batch_size, seq_len, embed_dim = x.size()\n",
        "        pooled_seq_len = seq_len // self.pool_factor\n",
        "        x = x[:, :pooled_seq_len * self.pool_factor, :]\n",
        "        x = x.view(batch_size, pooled_seq_len, self.pool_factor, embed_dim)\n",
        "        x = x.mean(dim=2)\n",
        "        return x\n",
        "\n",
        "# Positional Encoding class\n",
        "class PositionalEncoding(nn.Module):\n",
        "    def __init__(self, embed_dim, max_len=5000):\n",
        "        super(PositionalEncoding, self).__init__()\n",
        "        pe = torch.zeros(max_len, embed_dim)\n",
        "        position = torch.arange(0, max_len, dtype=torch.float).unsqueeze(1)\n",
        "        div_term = torch.exp(torch.arange(0, embed_dim, 2).float() * (-torch.log(torch.tensor(10000.0)) / embed_dim))\n",
        "        pe[:, 0::2] = torch.sin(position * div_term)\n",
        "        pe[:, 1::2] = torch.cos(position * div_term)\n",
        "        pe = pe.unsqueeze(1)\n",
        "        self.register_buffer('pe', pe)\n",
        "\n",
        "    def forward(self, x):\n",
        "        seq_len = x.size(0)\n",
        "        x = x + self.pe[:seq_len]\n",
        "        return x\n",
        "\n",
        "# Model for Intent Classification\n",
        "class EAMIntentClassifier(nn.Module):\n",
        "    def __init__(self, vocab_size, embed_dim, num_heads, num_classes, pool_factor=1):\n",
        "        super(EAMIntentClassifier, self).__init__()\n",
        "        self.embed_dim = embed_dim\n",
        "        self.embedding = nn.Embedding(vocab_size, embed_dim)\n",
        "        self.positional_encoding = PositionalEncoding(embed_dim)\n",
        "        self.token_pooling = TokenPooling(pool_factor)\n",
        "        self.fc_out = nn.Linear(embed_dim, num_classes)\n",
        "\n",
        "    def forward(self, x, attention_mask=None):\n",
        "        x = self.embedding(x)  # Shape: (batch_size, seq_len, embed_dim)\n",
        "        x = x.transpose(0, 1)  # (seq_len, batch_size, embed_dim)\n",
        "        x = self.positional_encoding(x)\n",
        "        x = x.transpose(0, 1)  # (batch_size, seq_len, embed_dim)\n",
        "        x = self.token_pooling(x)\n",
        "        x = self.fc_out(x.mean(dim=1))  # Global average pooling\n",
        "        return x\n",
        "\n",
        "# Training function\n",
        "def train_model(model, dataloader, criterion, optimizer, epochs, device):\n",
        "    model.to(device)\n",
        "    train_losses = []\n",
        "    all_accuracies = []\n",
        "\n",
        "    for epoch in range(epochs):\n",
        "        model.train()\n",
        "        total_loss = 0\n",
        "        correct_predictions = 0\n",
        "        total_samples = 0\n",
        "\n",
        "        for batch in dataloader:\n",
        "            texts_batch, labels_batch = batch['input_ids'].to(device), batch['label'].to(device)\n",
        "            optimizer.zero_grad()\n",
        "\n",
        "            outputs = model(texts_batch)\n",
        "            loss = criterion(outputs, labels_batch)\n",
        "            loss.backward()\n",
        "            optimizer.step()\n",
        "\n",
        "            total_loss += loss.item()\n",
        "            _, predicted = torch.max(outputs, 1)\n",
        "            correct_predictions += (predicted == labels_batch).sum().item()\n",
        "            total_samples += labels_batch.size(0)\n",
        "\n",
        "        avg_loss = total_loss / len(dataloader)\n",
        "        accuracy = correct_predictions / total_samples\n",
        "\n",
        "        train_losses.append(avg_loss)\n",
        "        all_accuracies.append(accuracy)\n",
        "\n",
        "        print(f\"Epoch {epoch+1}/{epochs}, Loss: {avg_loss:.4f}, Accuracy: {accuracy:.4f}\")\n",
        "\n",
        "    return train_losses, all_accuracies\n",
        "\n",
        "# Load dataset\n",
        "df = pd.read_csv(\"/content/PROMISE_exp.csv\")\n",
        "\n",
        "# Tokenize and build vocabulary\n",
        "all_tokens = []\n",
        "for desc in df['Description']:\n",
        "    tokens = custom_tokenizer(desc)\n",
        "    all_tokens.extend(tokens)\n",
        "\n",
        "token_counts = Counter(all_tokens)\n",
        "vocab = {token: idx+1 for idx, (token, _) in enumerate(token_counts.most_common())}\n",
        "vocab['<PAD>'] = 0  # Padding token\n",
        "\n",
        "# Create dataset and DataLoader\n",
        "max_len = 50\n",
        "train_dataset = CustomIntentDataset(df, vocab, max_len)\n",
        "train_loader = DataLoader(train_dataset, batch_size=32, shuffle=True)\n",
        "\n",
        "# Model initialization\n",
        "vocab_size = len(vocab)\n",
        "embed_dim = 16\n",
        "num_heads = 2\n",
        "num_classes = len(df['Category'].unique())\n",
        "\n",
        "eam_model = EAMIntentClassifier(vocab_size=vocab_size, embed_dim=embed_dim, num_heads=num_heads, num_classes=num_classes, pool_factor=2)\n",
        "optimizer_eam = optim.Adam(eam_model.parameters(), lr=0.001)\n",
        "criterion = nn.CrossEntropyLoss()\n",
        "\n",
        "# Check if GPU is available\n",
        "device = torch.device(\"cuda\" if torch.cuda.is_available() else \"cpu\")\n",
        "\n",
        "# Train the model\n",
        "print(\"Training EAM Intent Classifier\")\n",
        "eam_losses, eam_accuracies = train_model(eam_model, train_loader, criterion, optimizer_eam, epochs=100, device=device)\n",
        "\n",
        "# Plot Loss and Accuracy\n",
        "plt.figure(figsize=(12, 6))\n",
        "\n",
        "# Plot Loss over Epochs\n",
        "plt.subplot(1, 2, 1)\n",
        "plt.plot(eam_losses, label=\"EAM Model Loss\", color=\"blue\")\n",
        "plt.xlabel(\"Epochs\")\n",
        "plt.ylabel(\"Loss\")\n",
        "plt.title(\"EAM Model Training Loss\")\n",
        "plt.legend()\n",
        "\n",
        "# Plot Accuracy over Epochs\n",
        "plt.subplot(1, 2, 2)\n",
        "plt.plot(eam_accuracies, label=\"EAM Model Accuracy\", color=\"blue\")\n",
        "plt.xlabel(\"Epochs\")\n",
        "plt.ylabel(\"Accuracy\")\n",
        "plt.title(\"EAM Model Training Accuracy\")\n",
        "plt.legend()\n",
        "\n",
        "plt.tight_layout()\n",
        "plt.show()\n"
      ],
      "metadata": {
        "colab": {
          "base_uri": "https://localhost:8080/",
          "height": 1000
        },
        "id": "dTNeIVcRD297",
        "outputId": "5808c83c-b38f-4bb2-b132-2445b936c9f8"
      },
      "execution_count": 3,
      "outputs": [
        {
          "output_type": "stream",
          "name": "stdout",
          "text": [
            "Training EAM Intent Classifier\n",
            "Epoch 1/50, Loss: 2.8530, Accuracy: 0.0144\n",
            "Epoch 2/50, Loss: 2.5163, Accuracy: 0.0258\n",
            "Epoch 3/50, Loss: 2.2655, Accuracy: 0.3302\n",
            "Epoch 4/50, Loss: 2.0812, Accuracy: 0.4592\n",
            "Epoch 5/50, Loss: 1.9580, Accuracy: 0.4582\n",
            "Epoch 6/50, Loss: 1.8969, Accuracy: 0.4582\n",
            "Epoch 7/50, Loss: 1.8623, Accuracy: 0.4582\n",
            "Epoch 8/50, Loss: 1.8568, Accuracy: 0.4582\n",
            "Epoch 9/50, Loss: 1.8323, Accuracy: 0.4582\n",
            "Epoch 10/50, Loss: 1.8221, Accuracy: 0.4582\n",
            "Epoch 11/50, Loss: 1.8216, Accuracy: 0.4582\n",
            "Epoch 12/50, Loss: 1.8250, Accuracy: 0.4582\n",
            "Epoch 13/50, Loss: 1.8128, Accuracy: 0.4582\n",
            "Epoch 14/50, Loss: 1.8016, Accuracy: 0.4582\n",
            "Epoch 15/50, Loss: 1.8002, Accuracy: 0.4582\n",
            "Epoch 16/50, Loss: 1.8081, Accuracy: 0.4582\n",
            "Epoch 17/50, Loss: 1.7906, Accuracy: 0.4582\n",
            "Epoch 18/50, Loss: 1.7759, Accuracy: 0.4582\n",
            "Epoch 19/50, Loss: 1.7815, Accuracy: 0.4582\n",
            "Epoch 20/50, Loss: 1.7722, Accuracy: 0.4582\n",
            "Epoch 21/50, Loss: 1.7623, Accuracy: 0.4582\n",
            "Epoch 22/50, Loss: 1.7721, Accuracy: 0.4582\n",
            "Epoch 23/50, Loss: 1.7507, Accuracy: 0.4582\n",
            "Epoch 24/50, Loss: 1.7539, Accuracy: 0.4592\n",
            "Epoch 25/50, Loss: 1.7360, Accuracy: 0.4603\n",
            "Epoch 26/50, Loss: 1.7388, Accuracy: 0.4603\n",
            "Epoch 27/50, Loss: 1.7249, Accuracy: 0.4613\n",
            "Epoch 28/50, Loss: 1.7367, Accuracy: 0.4613\n",
            "Epoch 29/50, Loss: 1.7204, Accuracy: 0.4613\n",
            "Epoch 30/50, Loss: 1.7213, Accuracy: 0.4623\n",
            "Epoch 31/50, Loss: 1.7075, Accuracy: 0.4623\n",
            "Epoch 32/50, Loss: 1.7084, Accuracy: 0.4623\n",
            "Epoch 33/50, Loss: 1.6946, Accuracy: 0.4634\n",
            "Epoch 34/50, Loss: 1.6920, Accuracy: 0.4644\n",
            "Epoch 35/50, Loss: 1.6848, Accuracy: 0.4665\n",
            "Epoch 36/50, Loss: 1.6640, Accuracy: 0.4665\n",
            "Epoch 37/50, Loss: 1.6638, Accuracy: 0.4675\n",
            "Epoch 38/50, Loss: 1.6626, Accuracy: 0.4675\n",
            "Epoch 39/50, Loss: 1.6391, Accuracy: 0.4675\n",
            "Epoch 40/50, Loss: 1.6357, Accuracy: 0.4675\n",
            "Epoch 41/50, Loss: 1.6433, Accuracy: 0.4696\n",
            "Epoch 42/50, Loss: 1.6140, Accuracy: 0.4696\n",
            "Epoch 43/50, Loss: 1.6223, Accuracy: 0.4696\n",
            "Epoch 44/50, Loss: 1.6044, Accuracy: 0.4768\n",
            "Epoch 45/50, Loss: 1.5815, Accuracy: 0.4788\n",
            "Epoch 46/50, Loss: 1.5808, Accuracy: 0.4830\n",
            "Epoch 47/50, Loss: 1.5645, Accuracy: 0.4861\n",
            "Epoch 48/50, Loss: 1.5635, Accuracy: 0.4871\n",
            "Epoch 49/50, Loss: 1.5502, Accuracy: 0.4881\n",
            "Epoch 50/50, Loss: 1.5207, Accuracy: 0.4923\n"
          ]
        },
        {
          "output_type": "display_data",
          "data": {
            "text/plain": [
              "<Figure size 1200x600 with 2 Axes>"
            ],
            "image/png": "[encoded data removed]"
          },
          "metadata": {}
        }
      ]
    },
    {
      "cell_type": "code",
      "source": [
        "import torch\n",
        "import torch.optim as optim\n",
        "import torch.nn as nn\n",
        "from torch.utils.data import DataLoader, Dataset\n",
        "import pandas as pd\n",
        "import re\n",
        "from collections import Counter\n",
        "import matplotlib.pyplot as plt\n",
        "from transformers import BertTokenizer, BertForSequenceClassification\n",
        "from tqdm import tqdm\n",
        "\n",
        "# Custom tokenizer function to split text into words\n",
        "def custom_tokenizer(text):\n",
        "    tokens = re.findall(r'\\b\\w+\\b', text.lower())\n",
        "    return tokens\n",
        "\n",
        "# Dataset preparation using the custom tokenizer\n",
        "class CustomIntentDataset(Dataset):\n",
        "    def __init__(self, df, vocab, max_len):\n",
        "        self.df = df\n",
        "        self.texts = df['Description'].values\n",
        "        self.labels = df['Category'].values\n",
        "        self.vocab = vocab\n",
        "        self.max_len = max_len\n",
        "\n",
        "        # Map categories to numerical labels\n",
        "        self.label_mapping = {label: idx for idx, label in enumerate(df['Category'].unique())}\n",
        "        self.df['Category'] = self.df['Category'].map(self.label_mapping)\n",
        "\n",
        "    def __len__(self):\n",
        "        return len(self.df)\n",
        "\n",
        "    def __getitem__(self, idx):\n",
        "        text = self.texts[idx]\n",
        "        label = self.df['Category'].iloc[idx]\n",
        "\n",
        "        # Tokenize text\n",
        "        tokens = custom_tokenizer(text)\n",
        "        token_ids = [self.vocab.get(token, 0) for token in tokens]\n",
        "\n",
        "        # Apply padding or truncation\n",
        "        if len(token_ids) < self.max_len:\n",
        "            token_ids = token_ids + [self.vocab['<PAD>']] * (self.max_len - len(token_ids))\n",
        "        else:\n",
        "            token_ids = token_ids[:self.max_len]\n",
        "\n",
        "        return {\n",
        "            'input_ids': torch.tensor(token_ids, dtype=torch.long),\n",
        "            'label': torch.tensor(label, dtype=torch.long)\n",
        "        }\n",
        "\n",
        "# Dataset for BERT\n",
        "class BertIntentDataset(Dataset):\n",
        "    def __init__(self, df, tokenizer, max_len):\n",
        "        self.df = df\n",
        "        self.texts = df['Description'].values\n",
        "        self.labels = df['Category'].values\n",
        "        self.tokenizer = tokenizer\n",
        "        self.max_len = max_len\n",
        "\n",
        "        # Map categories to numerical labels\n",
        "        self.label_mapping = {label: idx for idx, label in enumerate(df['Category'].unique())}\n",
        "        self.df['Category'] = self.df['Category'].map(self.label_mapping)\n",
        "\n",
        "    def __len__(self):\n",
        "        return len(self.df)\n",
        "\n",
        "    def __getitem__(self, idx):\n",
        "        text = self.texts[idx]\n",
        "        label = self.df['Category'].iloc[idx]\n",
        "\n",
        "        # Tokenize text using BERT tokenizer\n",
        "        encoding = self.tokenizer(\n",
        "            text,\n",
        "            add_special_tokens=True,\n",
        "            max_length=self.max_len,\n",
        "            return_token_type_ids=False,\n",
        "            padding='max_length',\n",
        "            truncation=True,\n",
        "            return_attention_mask=True,\n",
        "            return_tensors='pt'\n",
        "        )\n",
        "\n",
        "        return {\n",
        "            'input_ids': encoding['input_ids'].flatten(),\n",
        "            'attention_mask': encoding['attention_mask'].flatten(),\n",
        "            'label': torch.tensor(label, dtype=torch.long)\n",
        "        }\n",
        "\n",
        "# Token pooling class\n",
        "class TokenPooling(nn.Module):\n",
        "    def __init__(self, pool_factor=2):\n",
        "        super(TokenPooling, self).__init__()\n",
        "        self.pool_factor = pool_factor\n",
        "\n",
        "    def forward(self, x):\n",
        "        batch_size, seq_len, embed_dim = x.size()\n",
        "        pooled_seq_len = seq_len // self.pool_factor\n",
        "        x = x[:, :pooled_seq_len * self.pool_factor, :]\n",
        "        x = x.view(batch_size, pooled_seq_len, self.pool_factor, embed_dim)\n",
        "        x = x.mean(dim=2)\n",
        "        return x\n",
        "\n",
        "# Positional Encoding class\n",
        "class PositionalEncoding(nn.Module):\n",
        "    def __init__(self, embed_dim, max_len=5000):\n",
        "        super(PositionalEncoding, self).__init__()\n",
        "        pe = torch.zeros(max_len, embed_dim)\n",
        "        position = torch.arange(0, max_len, dtype=torch.float).unsqueeze(1)\n",
        "        div_term = torch.exp(torch.arange(0, embed_dim, 2).float() * (-torch.log(torch.tensor(10000.0)) / embed_dim))\n",
        "        pe[:, 0::2] = torch.sin(position * div_term)\n",
        "        pe[:, 1::2] = torch.cos(position * div_term)\n",
        "        pe = pe.unsqueeze(1)\n",
        "        self.register_buffer('pe', pe)\n",
        "\n",
        "    def forward(self, x):\n",
        "        seq_len = x.size(0)\n",
        "        x = x + self.pe[:seq_len]\n",
        "        return x\n",
        "\n",
        "# Custom Model for Intent Classification\n",
        "class EAMIntentClassifier(nn.Module):\n",
        "    def __init__(self, vocab_size, embed_dim, num_heads, num_classes, pool_factor=1):\n",
        "        super(EAMIntentClassifier, self).__init__()\n",
        "        self.embed_dim = embed_dim\n",
        "        self.embedding = nn.Embedding(vocab_size, embed_dim)\n",
        "        self.positional_encoding = PositionalEncoding(embed_dim)\n",
        "        self.token_pooling = TokenPooling(pool_factor)\n",
        "        self.fc_out = nn.Linear(embed_dim, num_classes)\n",
        "\n",
        "    def forward(self, x, attention_mask=None):\n",
        "        x = self.embedding(x)  # Shape: (batch_size, seq_len, embed_dim)\n",
        "        x = x.transpose(0, 1)  # (seq_len, batch_size, embed_dim)\n",
        "        x = self.positional_encoding(x)\n",
        "        x = x.transpose(0, 1)  # (batch_size, seq_len, embed_dim)\n",
        "        x = self.token_pooling(x)\n",
        "        x = self.fc_out(x.mean(dim=1))  # Global average pooling\n",
        "        return x\n",
        "\n",
        "# Training function for the EAM model (custom tokenizer)\n",
        "def train_model(model, dataloader, criterion, optimizer, epochs, device):\n",
        "    model.to(device)\n",
        "    train_losses = []\n",
        "    all_accuracies = []\n",
        "\n",
        "    for epoch in range(epochs):\n",
        "        model.train()\n",
        "        total_loss = 0\n",
        "        correct_predictions = 0\n",
        "        total_samples = 0\n",
        "\n",
        "        for batch in tqdm(dataloader, desc=f'Epoch {epoch+1}/{epochs}'):\n",
        "            texts_batch, labels_batch = batch['input_ids'].to(device), batch['label'].to(device)\n",
        "            optimizer.zero_grad()\n",
        "\n",
        "            outputs = model(texts_batch)\n",
        "            loss = criterion(outputs, labels_batch)\n",
        "            loss.backward()\n",
        "            optimizer.step()\n",
        "\n",
        "            total_loss += loss.item()\n",
        "            _, predicted = torch.max(outputs, 1)\n",
        "            correct_predictions += (predicted == labels_batch).sum().item()\n",
        "            total_samples += labels_batch.size(0)\n",
        "\n",
        "        avg_loss = total_loss / len(dataloader)\n",
        "        accuracy = correct_predictions / total_samples\n",
        "\n",
        "        train_losses.append(avg_loss)\n",
        "        all_accuracies.append(accuracy)\n",
        "\n",
        "        print(f\"Epoch {epoch+1}/{epochs}, Loss: {avg_loss:.4f}, Accuracy: {accuracy:.4f}\")\n",
        "\n",
        "    return train_losses, all_accuracies\n",
        "\n",
        "# Modified training function for BERT model (with attention mask and correct output handling)\n",
        "def train_bert_model(model, dataloader, criterion, optimizer, epochs, device):\n",
        "    model.to(device)\n",
        "    train_losses = []\n",
        "    all_accuracies = []\n",
        "\n",
        "    for epoch in range(epochs):\n",
        "        model.train()\n",
        "        total_loss = 0\n",
        "        correct_predictions = 0\n",
        "        total_samples = 0\n",
        "\n",
        "        for batch in tqdm(dataloader, desc=f'Epoch {epoch+1}/{epochs}'):\n",
        "            texts_batch, attention_mask_batch = batch['input_ids'].to(device), batch['attention_mask'].to(device)\n",
        "            labels_batch = batch['label'].to(device)\n",
        "            optimizer.zero_grad()\n",
        "\n",
        "            # Get model outputs (logits from the SequenceClassifierOutput)\n",
        "            outputs = model(texts_batch, attention_mask=attention_mask_batch)\n",
        "            logits = outputs.logits  # Extract logits for loss calculation\n",
        "            loss = criterion(logits, labels_batch)\n",
        "            loss.backward()\n",
        "            optimizer.step()\n",
        "\n",
        "            total_loss += loss.item()\n",
        "            _, predicted = torch.max(logits, 1)\n",
        "            correct_predictions += (predicted == labels_batch).sum().item()\n",
        "            total_samples += labels_batch.size(0)\n",
        "\n",
        "        avg_loss = total_loss / len(dataloader)\n",
        "        accuracy = correct_predictions / total_samples\n",
        "\n",
        "        train_losses.append(avg_loss)\n",
        "        all_accuracies.append(accuracy)\n",
        "\n",
        "        print(f\"Epoch {epoch+1}/{epochs}, Loss: {avg_loss:.4f}, Accuracy: {accuracy:.4f}\")\n",
        "\n",
        "    return train_losses, all_accuracies\n",
        "\n",
        "# Load dataset\n",
        "df = pd.read_csv(\"/content/PROMISE_exp.csv\")\n",
        "\n",
        "# Tokenize and build vocabulary for custom model\n",
        "all_tokens = []\n",
        "for desc in df['Description']:\n",
        "    tokens = custom_tokenizer(desc)\n",
        "    all_tokens.extend(tokens)\n",
        "\n",
        "token_counts = Counter(all_tokens)\n",
        "vocab = {token: idx+1 for idx, (token, _) in enumerate(token_counts.most_common())}\n",
        "vocab['<PAD>'] = 0  # Padding token\n",
        "\n",
        "# Dataset and DataLoader for EAMIntentClassifier\n",
        "max_len = 50\n",
        "train_dataset_custom = CustomIntentDataset(df, vocab, max_len)\n",
        "train_loader_custom = DataLoader(train_dataset_custom, batch_size=32, shuffle=True)\n",
        "\n",
        "# Initialize the EAM model\n",
        "vocab_size = len(vocab)\n",
        "embed_dim = 16\n",
        "num_heads = 2\n",
        "num_classes = len(df['Category'].unique())\n",
        "\n",
        "eam_model = EAMIntentClassifier(vocab_size=vocab_size, embed_dim=embed_dim, num_heads=num_heads, num_classes=num_classes, pool_factor=2)"
      ],
      "metadata": {
        "id": "6jyGb8KhD53o"
      },
      "execution_count": 5,
      "outputs": []
    },
    {
      "cell_type": "code",
      "source": [
        "optimizer_eam = optim.Adam(eam_model.parameters(), lr=0.001)\n",
        "criterion = nn.CrossEntropyLoss()\n",
        "\n",
        "# Load the BERT tokenizer and model\n",
        "tokenizer_bert = BertTokenizer.from_pretrained('bert-base-uncased')\n",
        "bert_model = BertForSequenceClassification.from_pretrained('bert-base-uncased', num_labels=num_classes)\n",
        "\n",
        "# Dataset and DataLoader for BERT\n",
        "train_dataset_bert = BertIntentDataset(df, tokenizer_bert, max_len=64)\n",
        "train_loader_bert = DataLoader(train_dataset_bert, batch_size=32, shuffle=True)\n",
        "\n",
        "optimizer_bert = optim.Adam(bert_model.parameters(), lr=2e-5)\n",
        "\n",
        "# Check if GPU is available\n",
        "device = torch.device(\"cuda\" if torch.cuda.is_available() else \"cpu\")\n",
        "\n",
        "# Train the EAM model\n",
        "print(\"Training EAM Intent Classifier\")\n",
        "eam_losses, eam_accuracies = train_model(eam_model, train_loader_custom, criterion, optimizer_eam, epochs=10, device=device)\n",
        "\n",
        "# Train the BERT model\n",
        "print(\"Training BERT Model\")\n",
        "bert_losses, bert_accuracies = train_bert_model(bert_model, train_loader_bert, criterion, optimizer_bert, epochs=10, device=device)\n",
        "\n",
        "# Plot Loss and Accuracy comparison\n",
        "plt.figure(figsize=(12, 6))\n",
        "\n",
        "# Plot Loss over Epochs for both models\n",
        "plt.subplot(1, 2, 1)\n",
        "plt.plot(eam_losses, label=\"EAM Model Loss\", color=\"blue\")\n",
        "plt.plot(bert_losses, label=\"BERT Model Loss\", color=\"red\")\n",
        "plt.xlabel(\"Epochs\")\n",
        "plt.ylabel(\"Loss\")\n",
        "plt.title(\"Loss Comparison: EAM Model vs BERT Model\")\n",
        "plt.legend()\n",
        "\n",
        "# Plot Accuracy over Epochs for both models\n",
        "plt.subplot(1, 2, 2)\n",
        "plt.plot(eam_accuracies, label=\"EAM Model Accuracy\", color=\"blue\")\n",
        "plt.plot(bert_accuracies, label=\"BERT Model Accuracy\", color=\"red\")\n",
        "plt.xlabel(\"Epochs\")\n",
        "plt.ylabel(\"Accuracy\")\n",
        "plt.title(\"Accuracy Comparison: EAM Model vs BERT Model\")\n",
        "plt.legend()\n",
        "\n",
        "plt.tight_layout()\n",
        "plt.show()\n"
      ],
      "metadata": {
        "colab": {
          "base_uri": "https://localhost:8080/",
          "height": 1000
        },
        "id": "UzKjzoz0GByE",
        "outputId": "303995af-57d9-455d-90bd-8c808130f7da"
      },
      "execution_count": 6,
      "outputs": [
        {
          "output_type": "stream",
          "name": "stderr",
          "text": [
            "/usr/local/lib/python3.10/dist-packages/transformers/tokenization_utils_base.py:1601: FutureWarning: `clean_up_tokenization_spaces` was not set. It will be set to `True` by default. This behavior will be depracted in transformers v4.45, and will be then set to `False` by default. For more details check this issue: https://github.com/huggingface/transformers/issues/31884\n",
            "  warnings.warn(\n",
            "Some weights of BertForSequenceClassification were not initialized from the model checkpoint at bert-base-uncased and are newly initialized: ['classifier.bias', 'classifier.weight']\n",
            "You should probably TRAIN this model on a down-stream task to be able to use it for predictions and inference.\n"
          ]
        },
        {
          "output_type": "stream",
          "name": "stdout",
          "text": [
            "Training EAM Intent Classifier\n"
          ]
        },
        {
          "output_type": "stream",
          "name": "stderr",
          "text": [
            "Epoch 1/10: 100%|██████████| 31/31 [00:00<00:00, 189.33it/s]\n"
          ]
        },
        {
          "output_type": "stream",
          "name": "stdout",
          "text": [
            "Epoch 1/10, Loss: 2.9590, Accuracy: 0.0702\n"
          ]
        },
        {
          "output_type": "stream",
          "name": "stderr",
          "text": [
            "Epoch 2/10: 100%|██████████| 31/31 [00:00<00:00, 187.44it/s]\n"
          ]
        },
        {
          "output_type": "stream",
          "name": "stdout",
          "text": [
            "Epoch 2/10, Loss: 2.6176, Accuracy: 0.0702\n"
          ]
        },
        {
          "output_type": "stream",
          "name": "stderr",
          "text": [
            "Epoch 3/10: 100%|██████████| 31/31 [00:00<00:00, 147.29it/s]\n"
          ]
        },
        {
          "output_type": "stream",
          "name": "stdout",
          "text": [
            "Epoch 3/10, Loss: 2.3451, Accuracy: 0.0929\n"
          ]
        },
        {
          "output_type": "stream",
          "name": "stderr",
          "text": [
            "Epoch 4/10: 100%|██████████| 31/31 [00:00<00:00, 204.04it/s]\n"
          ]
        },
        {
          "output_type": "stream",
          "name": "stdout",
          "text": [
            "Epoch 4/10, Loss: 2.1337, Accuracy: 0.4376\n"
          ]
        },
        {
          "output_type": "stream",
          "name": "stderr",
          "text": [
            "Epoch 5/10: 100%|██████████| 31/31 [00:00<00:00, 202.36it/s]\n"
          ]
        },
        {
          "output_type": "stream",
          "name": "stdout",
          "text": [
            "Epoch 5/10, Loss: 1.9741, Accuracy: 0.4582\n"
          ]
        },
        {
          "output_type": "stream",
          "name": "stderr",
          "text": [
            "Epoch 6/10: 100%|██████████| 31/31 [00:00<00:00, 203.05it/s]\n"
          ]
        },
        {
          "output_type": "stream",
          "name": "stdout",
          "text": [
            "Epoch 6/10, Loss: 1.8957, Accuracy: 0.4582\n"
          ]
        },
        {
          "output_type": "stream",
          "name": "stderr",
          "text": [
            "Epoch 7/10: 100%|██████████| 31/31 [00:00<00:00, 205.76it/s]\n"
          ]
        },
        {
          "output_type": "stream",
          "name": "stdout",
          "text": [
            "Epoch 7/10, Loss: 1.8461, Accuracy: 0.4582\n"
          ]
        },
        {
          "output_type": "stream",
          "name": "stderr",
          "text": [
            "Epoch 8/10: 100%|██████████| 31/31 [00:00<00:00, 198.40it/s]\n"
          ]
        },
        {
          "output_type": "stream",
          "name": "stdout",
          "text": [
            "Epoch 8/10, Loss: 1.8361, Accuracy: 0.4582\n"
          ]
        },
        {
          "output_type": "stream",
          "name": "stderr",
          "text": [
            "Epoch 9/10: 100%|██████████| 31/31 [00:00<00:00, 167.42it/s]\n"
          ]
        },
        {
          "output_type": "stream",
          "name": "stdout",
          "text": [
            "Epoch 9/10, Loss: 1.8214, Accuracy: 0.4582\n"
          ]
        },
        {
          "output_type": "stream",
          "name": "stderr",
          "text": [
            "Epoch 10/10: 100%|██████████| 31/31 [00:00<00:00, 169.99it/s]"
          ]
        },
        {
          "output_type": "stream",
          "name": "stdout",
          "text": [
            "Epoch 10/10, Loss: 1.8125, Accuracy: 0.4582\n",
            "Training BERT Model\n"
          ]
        },
        {
          "output_type": "stream",
          "name": "stderr",
          "text": [
            "\n",
            "Epoch 1/10: 100%|██████████| 31/31 [00:10<00:00,  3.03it/s]\n"
          ]
        },
        {
          "output_type": "stream",
          "name": "stdout",
          "text": [
            "Epoch 1/10, Loss: 2.0123, Accuracy: 0.4045\n"
          ]
        },
        {
          "output_type": "stream",
          "name": "stderr",
          "text": [
            "Epoch 2/10: 100%|██████████| 31/31 [00:10<00:00,  3.07it/s]\n"
          ]
        },
        {
          "output_type": "stream",
          "name": "stdout",
          "text": [
            "Epoch 2/10, Loss: 1.6692, Accuracy: 0.4778\n"
          ]
        },
        {
          "output_type": "stream",
          "name": "stderr",
          "text": [
            "Epoch 3/10: 100%|██████████| 31/31 [00:10<00:00,  3.03it/s]\n"
          ]
        },
        {
          "output_type": "stream",
          "name": "stdout",
          "text": [
            "Epoch 3/10, Loss: 1.4065, Accuracy: 0.5820\n"
          ]
        },
        {
          "output_type": "stream",
          "name": "stderr",
          "text": [
            "Epoch 4/10: 100%|██████████| 31/31 [00:10<00:00,  3.02it/s]\n"
          ]
        },
        {
          "output_type": "stream",
          "name": "stdout",
          "text": [
            "Epoch 4/10, Loss: 1.1398, Accuracy: 0.7038\n"
          ]
        },
        {
          "output_type": "stream",
          "name": "stderr",
          "text": [
            "Epoch 5/10: 100%|██████████| 31/31 [00:10<00:00,  2.96it/s]\n"
          ]
        },
        {
          "output_type": "stream",
          "name": "stdout",
          "text": [
            "Epoch 5/10, Loss: 0.8904, Accuracy: 0.7781\n"
          ]
        },
        {
          "output_type": "stream",
          "name": "stderr",
          "text": [
            "Epoch 6/10: 100%|██████████| 31/31 [00:10<00:00,  2.92it/s]\n"
          ]
        },
        {
          "output_type": "stream",
          "name": "stdout",
          "text": [
            "Epoch 6/10, Loss: 0.7618, Accuracy: 0.8091\n"
          ]
        },
        {
          "output_type": "stream",
          "name": "stderr",
          "text": [
            "Epoch 7/10: 100%|██████████| 31/31 [00:10<00:00,  2.92it/s]\n"
          ]
        },
        {
          "output_type": "stream",
          "name": "stdout",
          "text": [
            "Epoch 7/10, Loss: 0.5635, Accuracy: 0.8566\n"
          ]
        },
        {
          "output_type": "stream",
          "name": "stderr",
          "text": [
            "Epoch 8/10: 100%|██████████| 31/31 [00:10<00:00,  2.94it/s]\n"
          ]
        },
        {
          "output_type": "stream",
          "name": "stdout",
          "text": [
            "Epoch 8/10, Loss: 0.4249, Accuracy: 0.9030\n"
          ]
        },
        {
          "output_type": "stream",
          "name": "stderr",
          "text": [
            "Epoch 9/10: 100%|██████████| 31/31 [00:10<00:00,  2.94it/s]\n"
          ]
        },
        {
          "output_type": "stream",
          "name": "stdout",
          "text": [
            "Epoch 9/10, Loss: 0.3361, Accuracy: 0.9463\n"
          ]
        },
        {
          "output_type": "stream",
          "name": "stderr",
          "text": [
            "Epoch 10/10: 100%|██████████| 31/31 [00:10<00:00,  2.97it/s]\n"
          ]
        },
        {
          "output_type": "stream",
          "name": "stdout",
          "text": [
            "Epoch 10/10, Loss: 0.2483, Accuracy: 0.9659\n"
          ]
        },
        {
          "output_type": "display_data",
          "data": {
            "text/plain": [
              "<Figure size 1200x600 with 2 Axes>"
            ],
            "image/png": "[encoded data removed]"
          },
          "metadata": {}
        }
      ]
    },
    {
      "cell_type": "code",
      "source": [
        "import torch\n",
        "import torch.optim as optim\n",
        "import torch.nn as nn\n",
        "from torch.optim.lr_scheduler import StepLR\n",
        "from torch.utils.data import DataLoader, Dataset\n",
        "import pandas as pd\n",
        "import re\n",
        "from collections import Counter\n",
        "import matplotlib.pyplot as plt\n",
        "from transformers import BertTokenizer, BertForSequenceClassification\n",
        "from tqdm import tqdm\n",
        "\n",
        "# Custom tokenizer function to split text into words\n",
        "def custom_tokenizer(text):\n",
        "    tokens = re.findall(r'\\b\\w+\\b', text.lower())\n",
        "    return tokens\n",
        "\n",
        "# Dataset preparation using the custom tokenizer\n",
        "class CustomIntentDataset(Dataset):\n",
        "    def __init__(self, df, vocab, max_len):\n",
        "        self.df = df\n",
        "        self.texts = df['Description'].values\n",
        "        self.labels = df['Category'].values\n",
        "        self.vocab = vocab\n",
        "        self.max_len = max_len\n",
        "\n",
        "        # Map categories to numerical labels\n",
        "        self.label_mapping = {label: idx for idx, label in enumerate(df['Category'].unique())}\n",
        "        self.df['Category'] = self.df['Category'].map(self.label_mapping)\n",
        "\n",
        "    def __len__(self):\n",
        "        return len(self.df)\n",
        "\n",
        "    def __getitem__(self, idx):\n",
        "        text = self.texts[idx]\n",
        "        label = self.df['Category'].iloc[idx]\n",
        "\n",
        "        # Tokenize text\n",
        "        tokens = custom_tokenizer(text)\n",
        "        token_ids = [self.vocab.get(token, 0) for token in tokens]\n",
        "\n",
        "        # Apply padding or truncation\n",
        "        if len(token_ids) < self.max_len:\n",
        "            token_ids = token_ids + [self.vocab['<PAD>']] * (self.max_len - len(token_ids))\n",
        "        else:\n",
        "            token_ids = token_ids[:self.max_len]\n",
        "\n",
        "        return {\n",
        "            'input_ids': torch.tensor(token_ids, dtype=torch.long),\n",
        "            'label': torch.tensor(label, dtype=torch.long)\n",
        "        }\n",
        "\n",
        "# Positional Encoding class\n",
        "class PositionalEncoding(nn.Module):\n",
        "    def __init__(self, embed_dim, max_len=5000):\n",
        "        super(PositionalEncoding, self).__init__()\n",
        "        pe = torch.zeros(max_len, embed_dim)\n",
        "        position = torch.arange(0, max_len, dtype=torch.float).unsqueeze(1)\n",
        "        div_term = torch.exp(torch.arange(0, embed_dim, 2).float() * (-torch.log(torch.tensor(10000.0)) / embed_dim))\n",
        "        pe[:, 0::2] = torch.sin(position * div_term)\n",
        "        pe[:, 1::2] = torch.cos(position * div_term)\n",
        "        pe = pe.unsqueeze(1)\n",
        "        self.register_buffer('pe', pe)\n",
        "\n",
        "    def forward(self, x):\n",
        "        seq_len = x.size(0)\n",
        "        x = x + self.pe[:seq_len]\n",
        "        return x\n",
        "\n",
        "# Custom Model for Intent Classification\n",
        "class EAMIntentClassifier(nn.Module):\n",
        "    def __init__(self, vocab_size, embed_dim, num_heads, num_classes, pool_factor=1):\n",
        "        super(EAMIntentClassifier, self).__init__()\n",
        "        self.embed_dim = embed_dim\n",
        "        self.embedding = nn.Embedding(vocab_size, embed_dim)\n",
        "        self.positional_encoding = PositionalEncoding(embed_dim)\n",
        "        self.token_pooling = TokenPooling(pool_factor)\n",
        "        self.fc_out = nn.Linear(embed_dim, num_classes)\n",
        "\n",
        "    def forward(self, x, attention_mask=None):\n",
        "        x = self.embedding(x)  # Shape: (batch_size, seq_len, embed_dim)\n",
        "        x = x.transpose(0, 1)  # (seq_len, batch_size, embed_dim)\n",
        "        x = self.positional_encoding(x)\n",
        "        x = x.transpose(0, 1)  # (batch_size, seq_len, embed_dim)\n",
        "        x = self.token_pooling(x)\n",
        "        x = self.fc_out(x.mean(dim=1))  # Global average pooling\n",
        "        return x\n",
        "\n",
        "# Training function for the EAM model with gradient clipping and learning rate scheduling\n",
        "def train_eam_model(model, dataloader, criterion, optimizer, scheduler, epochs, device, grad_clip=None):\n",
        "    model.to(device)\n",
        "    train_losses = []\n",
        "    all_accuracies = []\n",
        "\n",
        "    for epoch in range(epochs):\n",
        "        model.train()\n",
        "        total_loss = 0\n",
        "        correct_predictions = 0\n",
        "        total_samples = 0\n",
        "\n",
        "        for batch in tqdm(dataloader, desc=f'Epoch {epoch+1}/{epochs}'):\n",
        "            texts_batch, labels_batch = batch['input_ids'].to(device), batch['label'].to(device)\n",
        "            optimizer.zero_grad()\n",
        "\n",
        "            outputs = model(texts_batch)\n",
        "            loss = criterion(outputs, labels_batch)\n",
        "            loss.backward()\n",
        "\n",
        "            # Gradient clipping\n",
        "            if grad_clip:\n",
        "                nn.utils.clip_grad_norm_(model.parameters(), grad_clip)\n",
        "\n",
        "            optimizer.step()\n",
        "\n",
        "            total_loss += loss.item()\n",
        "            _, predicted = torch.max(outputs, 1)\n",
        "            correct_predictions += (predicted == labels_batch).sum().item()\n",
        "            total_samples += labels_batch.size(0)\n",
        "\n",
        "        avg_loss = total_loss / len(dataloader)\n",
        "        accuracy = correct_predictions / total_samples\n",
        "\n",
        "        train_losses.append(avg_loss)\n",
        "        all_accuracies.append(accuracy)\n",
        "\n",
        "        print(f\"Epoch {epoch+1}/{epochs}, Loss: {avg_loss:.4f}, Accuracy: {accuracy:.4f}\")\n",
        "\n",
        "        # Learning rate scheduling\n",
        "        scheduler.step()\n",
        "\n",
        "    return train_losses, all_accuracies\n",
        "\n",
        "# Load dataset\n",
        "df = pd.read_csv(\"/content/PROMISE_exp.csv\")\n",
        "\n",
        "# Tokenize and build vocabulary for custom model\n",
        "all_tokens = []\n",
        "for desc in df['Description']:\n",
        "    tokens = custom_tokenizer(desc)\n",
        "    all_tokens.extend(tokens)\n",
        "\n",
        "token_counts = Counter(all_tokens)\n",
        "vocab = {token: idx+1 for idx, (token, _) in enumerate(token_counts.most_common())}\n",
        "vocab['<PAD>'] = 0  # Padding token\n",
        "\n",
        "# Dataset and DataLoader for EAMIntentClassifier\n",
        "max_len = 50\n",
        "train_dataset_custom = CustomIntentDataset(df, vocab, max_len)\n",
        "train_loader_custom = DataLoader(train_dataset_custom, batch_size=32, shuffle=True)\n",
        "\n",
        "# Initialize the EAM model\n",
        "vocab_size = len(vocab)\n",
        "embed_dim = 16\n",
        "num_heads = 2\n",
        "num_classes = len(df['Category'].unique())\n",
        "\n",
        "eam_model = EAMIntentClassifier(vocab_size=vocab_size, embed_dim=embed_dim, num_heads=num_heads, num_classes=num_classes, pool_factor=2)\n",
        "\n",
        "# Optimizer and learning rate scheduler\n",
        "optimizer_eam = optim.AdamW(eam_model.parameters(), lr=0.001)\n",
        "scheduler = StepLR(optimizer_eam, step_size=5, gamma=0.1)  # Decays LR every 5 epochs\n",
        "criterion = nn.CrossEntropyLoss()\n",
        "\n",
        "# Train the EAM model with gradient clipping and scheduler\n",
        "print(\"Training EAM Intent Classifier with 20 Epochs\")\n",
        "eam_losses, eam_accuracies = train_eam_model(eam_model, train_loader_custom, criterion, optimizer_eam, scheduler, epochs=50, device=torch.device('cuda' if torch.cuda.is_available() else 'cpu'), grad_clip=1.0)\n",
        "\n",
        "# Train the BERT model with 10 epochs (same as before)\n",
        "tokenizer_bert = BertTokenizer.from_pretrained('bert-base-uncased')\n",
        "bert_model = BertForSequenceClassification.from_pretrained('bert-base-uncased', num_labels=num_classes)\n",
        "\n",
        "# Dataset and DataLoader for BERT\n",
        "train_dataset_bert = BertIntentDataset(df, tokenizer_bert, max_len=64)\n",
        "train_loader_bert = DataLoader(train_dataset_bert, batch_size=32, shuffle=True)\n",
        "\n",
        "optimizer_bert = optim.AdamW(bert_model.parameters(), lr=2e-5)\n",
        "criterion = nn.CrossEntropyLoss()\n",
        "\n",
        "# Modified training function for BERT model (as before)\n",
        "print(\"Training BERT Model with 10 Epochs\")\n",
        "bert_losses, bert_accuracies = train_bert_model(bert_model, train_loader_bert, criterion, optimizer_bert, epochs=10, device=torch.device('cuda' if torch.cuda.is_available() else 'cpu'))\n",
        "\n",
        "# Plot Loss and Accuracy comparison\n",
        "plt.figure(figsize=(12, 6))\n",
        "\n",
        "# Plot Loss over Epochs for both models\n",
        "plt.subplot(1, 2, 1)\n",
        "plt.plot(eam_losses, label=\"EAM Model Loss (20 Epochs)\", color=\"blue\")\n",
        "plt.plot(bert_losses, label=\"BERT Model Loss (10 Epochs)\", color=\"red\")\n",
        "plt.xlabel(\"Epochs\")\n",
        "plt.ylabel(\"Loss\")\n",
        "plt.title(\"Loss Comparison: EAM Model vs BERT Model\")\n",
        "plt.legend()\n",
        "\n",
        "# Plot Accuracy over Epochs for both models\n",
        "plt.subplot(1, 2, 2)\n",
        "plt.plot(eam_accuracies, label=\"EAM Model Accuracy (20 Epochs)\", color=\"blue\")\n",
        "plt.plot(bert_accuracies, label=\"BERT Model Accuracy (10 Epochs)\", color=\"red\")\n",
        "plt.xlabel(\"Epochs\")\n",
        "plt.ylabel(\"Accuracy\")\n",
        "plt.title(\"Accuracy Comparison: EAM Model vs BERT Model\")\n",
        "plt.legend()\n",
        "\n",
        "plt.tight_layout()\n",
        "plt.show()\n"
      ],
      "metadata": {
        "colab": {
          "base_uri": "https://localhost:8080/",
          "height": 1000
        },
        "id": "U5svWfQ_JpRk",
        "outputId": "093a736c-83e6-43b0-9ead-63b4c7b34cb2"
      },
      "execution_count": 9,
      "outputs": [
        {
          "output_type": "stream",
          "name": "stdout",
          "text": [
            "Training EAM Intent Classifier with 20 Epochs\n"
          ]
        },
        {
          "output_type": "stream",
          "name": "stderr",
          "text": [
            "Epoch 1/50: 100%|██████████| 31/31 [00:00<00:00, 187.04it/s]\n"
          ]
        },
        {
          "output_type": "stream",
          "name": "stdout",
          "text": [
            "Epoch 1/50, Loss: 2.4388, Accuracy: 0.0144\n"
          ]
        },
        {
          "output_type": "stream",
          "name": "stderr",
          "text": [
            "Epoch 2/50: 100%|██████████| 31/31 [00:00<00:00, 192.63it/s]\n"
          ]
        },
        {
          "output_type": "stream",
          "name": "stdout",
          "text": [
            "Epoch 2/50, Loss: 2.1569, Accuracy: 0.3488\n"
          ]
        },
        {
          "output_type": "stream",
          "name": "stderr",
          "text": [
            "Epoch 3/50: 100%|██████████| 31/31 [00:00<00:00, 162.23it/s]\n"
          ]
        },
        {
          "output_type": "stream",
          "name": "stdout",
          "text": [
            "Epoch 3/50, Loss: 1.9947, Accuracy: 0.4582\n"
          ]
        },
        {
          "output_type": "stream",
          "name": "stderr",
          "text": [
            "Epoch 4/50: 100%|██████████| 31/31 [00:00<00:00, 188.37it/s]\n"
          ]
        },
        {
          "output_type": "stream",
          "name": "stdout",
          "text": [
            "Epoch 4/50, Loss: 1.8831, Accuracy: 0.4582\n"
          ]
        },
        {
          "output_type": "stream",
          "name": "stderr",
          "text": [
            "Epoch 5/50: 100%|██████████| 31/31 [00:00<00:00, 145.12it/s]\n"
          ]
        },
        {
          "output_type": "stream",
          "name": "stdout",
          "text": [
            "Epoch 5/50, Loss: 1.8548, Accuracy: 0.4582\n"
          ]
        },
        {
          "output_type": "stream",
          "name": "stderr",
          "text": [
            "Epoch 6/50: 100%|██████████| 31/31 [00:00<00:00, 181.88it/s]\n"
          ]
        },
        {
          "output_type": "stream",
          "name": "stdout",
          "text": [
            "Epoch 6/50, Loss: 1.8579, Accuracy: 0.4582\n"
          ]
        },
        {
          "output_type": "stream",
          "name": "stderr",
          "text": [
            "Epoch 7/50: 100%|██████████| 31/31 [00:00<00:00, 171.50it/s]\n"
          ]
        },
        {
          "output_type": "stream",
          "name": "stdout",
          "text": [
            "Epoch 7/50, Loss: 1.8333, Accuracy: 0.4582\n"
          ]
        },
        {
          "output_type": "stream",
          "name": "stderr",
          "text": [
            "Epoch 8/50: 100%|██████████| 31/31 [00:00<00:00, 170.12it/s]\n"
          ]
        },
        {
          "output_type": "stream",
          "name": "stdout",
          "text": [
            "Epoch 8/50, Loss: 1.8445, Accuracy: 0.4582\n"
          ]
        },
        {
          "output_type": "stream",
          "name": "stderr",
          "text": [
            "Epoch 9/50: 100%|██████████| 31/31 [00:00<00:00, 131.90it/s]\n"
          ]
        },
        {
          "output_type": "stream",
          "name": "stdout",
          "text": [
            "Epoch 9/50, Loss: 1.8562, Accuracy: 0.4582\n"
          ]
        },
        {
          "output_type": "stream",
          "name": "stderr",
          "text": [
            "Epoch 10/50: 100%|██████████| 31/31 [00:00<00:00, 166.97it/s]\n"
          ]
        },
        {
          "output_type": "stream",
          "name": "stdout",
          "text": [
            "Epoch 10/50, Loss: 1.8638, Accuracy: 0.4582\n"
          ]
        },
        {
          "output_type": "stream",
          "name": "stderr",
          "text": [
            "Epoch 11/50: 100%|██████████| 31/31 [00:00<00:00, 185.10it/s]\n"
          ]
        },
        {
          "output_type": "stream",
          "name": "stdout",
          "text": [
            "Epoch 11/50, Loss: 1.8425, Accuracy: 0.4582\n"
          ]
        },
        {
          "output_type": "stream",
          "name": "stderr",
          "text": [
            "Epoch 12/50: 100%|██████████| 31/31 [00:00<00:00, 190.29it/s]\n"
          ]
        },
        {
          "output_type": "stream",
          "name": "stdout",
          "text": [
            "Epoch 12/50, Loss: 1.8535, Accuracy: 0.4582\n"
          ]
        },
        {
          "output_type": "stream",
          "name": "stderr",
          "text": [
            "Epoch 13/50: 100%|██████████| 31/31 [00:00<00:00, 194.34it/s]\n"
          ]
        },
        {
          "output_type": "stream",
          "name": "stdout",
          "text": [
            "Epoch 13/50, Loss: 1.8580, Accuracy: 0.4582\n"
          ]
        },
        {
          "output_type": "stream",
          "name": "stderr",
          "text": [
            "Epoch 14/50: 100%|██████████| 31/31 [00:00<00:00, 174.20it/s]\n"
          ]
        },
        {
          "output_type": "stream",
          "name": "stdout",
          "text": [
            "Epoch 14/50, Loss: 1.8460, Accuracy: 0.4582\n"
          ]
        },
        {
          "output_type": "stream",
          "name": "stderr",
          "text": [
            "Epoch 15/50: 100%|██████████| 31/31 [00:00<00:00, 172.58it/s]\n"
          ]
        },
        {
          "output_type": "stream",
          "name": "stdout",
          "text": [
            "Epoch 15/50, Loss: 1.8393, Accuracy: 0.4582\n"
          ]
        },
        {
          "output_type": "stream",
          "name": "stderr",
          "text": [
            "Epoch 16/50: 100%|██████████| 31/31 [00:00<00:00, 196.12it/s]\n"
          ]
        },
        {
          "output_type": "stream",
          "name": "stdout",
          "text": [
            "Epoch 16/50, Loss: 1.8486, Accuracy: 0.4582\n"
          ]
        },
        {
          "output_type": "stream",
          "name": "stderr",
          "text": [
            "Epoch 17/50: 100%|██████████| 31/31 [00:00<00:00, 189.62it/s]\n"
          ]
        },
        {
          "output_type": "stream",
          "name": "stdout",
          "text": [
            "Epoch 17/50, Loss: 1.8437, Accuracy: 0.4582\n"
          ]
        },
        {
          "output_type": "stream",
          "name": "stderr",
          "text": [
            "Epoch 18/50: 100%|██████████| 31/31 [00:00<00:00, 194.11it/s]\n"
          ]
        },
        {
          "output_type": "stream",
          "name": "stdout",
          "text": [
            "Epoch 18/50, Loss: 1.8493, Accuracy: 0.4582\n"
          ]
        },
        {
          "output_type": "stream",
          "name": "stderr",
          "text": [
            "Epoch 19/50: 100%|██████████| 31/31 [00:00<00:00, 181.55it/s]\n"
          ]
        },
        {
          "output_type": "stream",
          "name": "stdout",
          "text": [
            "Epoch 19/50, Loss: 1.8465, Accuracy: 0.4582\n"
          ]
        },
        {
          "output_type": "stream",
          "name": "stderr",
          "text": [
            "Epoch 20/50: 100%|██████████| 31/31 [00:00<00:00, 132.49it/s]\n"
          ]
        },
        {
          "output_type": "stream",
          "name": "stdout",
          "text": [
            "Epoch 20/50, Loss: 1.8551, Accuracy: 0.4582\n"
          ]
        },
        {
          "output_type": "stream",
          "name": "stderr",
          "text": [
            "Epoch 21/50: 100%|██████████| 31/31 [00:00<00:00, 190.86it/s]\n"
          ]
        },
        {
          "output_type": "stream",
          "name": "stdout",
          "text": [
            "Epoch 21/50, Loss: 1.8387, Accuracy: 0.4582\n"
          ]
        },
        {
          "output_type": "stream",
          "name": "stderr",
          "text": [
            "Epoch 22/50: 100%|██████████| 31/31 [00:00<00:00, 198.79it/s]\n"
          ]
        },
        {
          "output_type": "stream",
          "name": "stdout",
          "text": [
            "Epoch 22/50, Loss: 1.8558, Accuracy: 0.4582\n"
          ]
        },
        {
          "output_type": "stream",
          "name": "stderr",
          "text": [
            "Epoch 23/50: 100%|██████████| 31/31 [00:00<00:00, 189.91it/s]\n"
          ]
        },
        {
          "output_type": "stream",
          "name": "stdout",
          "text": [
            "Epoch 23/50, Loss: 1.8245, Accuracy: 0.4582\n"
          ]
        },
        {
          "output_type": "stream",
          "name": "stderr",
          "text": [
            "Epoch 24/50: 100%|██████████| 31/31 [00:00<00:00, 176.82it/s]\n"
          ]
        },
        {
          "output_type": "stream",
          "name": "stdout",
          "text": [
            "Epoch 24/50, Loss: 1.8487, Accuracy: 0.4582\n"
          ]
        },
        {
          "output_type": "stream",
          "name": "stderr",
          "text": [
            "Epoch 25/50: 100%|██████████| 31/31 [00:00<00:00, 61.52it/s]\n"
          ]
        },
        {
          "output_type": "stream",
          "name": "stdout",
          "text": [
            "Epoch 25/50, Loss: 1.8383, Accuracy: 0.4582\n"
          ]
        },
        {
          "output_type": "stream",
          "name": "stderr",
          "text": [
            "Epoch 26/50: 100%|██████████| 31/31 [00:00<00:00, 122.75it/s]\n"
          ]
        },
        {
          "output_type": "stream",
          "name": "stdout",
          "text": [
            "Epoch 26/50, Loss: 1.8627, Accuracy: 0.4582\n"
          ]
        },
        {
          "output_type": "stream",
          "name": "stderr",
          "text": [
            "Epoch 27/50: 100%|██████████| 31/31 [00:00<00:00, 272.73it/s]\n"
          ]
        },
        {
          "output_type": "stream",
          "name": "stdout",
          "text": [
            "Epoch 27/50, Loss: 1.8521, Accuracy: 0.4582\n"
          ]
        },
        {
          "output_type": "stream",
          "name": "stderr",
          "text": [
            "Epoch 28/50: 100%|██████████| 31/31 [00:00<00:00, 262.06it/s]\n"
          ]
        },
        {
          "output_type": "stream",
          "name": "stdout",
          "text": [
            "Epoch 28/50, Loss: 1.8389, Accuracy: 0.4582\n"
          ]
        },
        {
          "output_type": "stream",
          "name": "stderr",
          "text": [
            "Epoch 29/50: 100%|██████████| 31/31 [00:00<00:00, 225.82it/s]\n"
          ]
        },
        {
          "output_type": "stream",
          "name": "stdout",
          "text": [
            "Epoch 29/50, Loss: 1.8367, Accuracy: 0.4582\n"
          ]
        },
        {
          "output_type": "stream",
          "name": "stderr",
          "text": [
            "Epoch 30/50: 100%|██████████| 31/31 [00:00<00:00, 229.52it/s]\n"
          ]
        },
        {
          "output_type": "stream",
          "name": "stdout",
          "text": [
            "Epoch 30/50, Loss: 1.8459, Accuracy: 0.4582\n"
          ]
        },
        {
          "output_type": "stream",
          "name": "stderr",
          "text": [
            "Epoch 31/50: 100%|██████████| 31/31 [00:00<00:00, 268.52it/s]\n"
          ]
        },
        {
          "output_type": "stream",
          "name": "stdout",
          "text": [
            "Epoch 31/50, Loss: 1.8494, Accuracy: 0.4582\n"
          ]
        },
        {
          "output_type": "stream",
          "name": "stderr",
          "text": [
            "Epoch 32/50: 100%|██████████| 31/31 [00:00<00:00, 269.60it/s]\n"
          ]
        },
        {
          "output_type": "stream",
          "name": "stdout",
          "text": [
            "Epoch 32/50, Loss: 1.8485, Accuracy: 0.4582\n"
          ]
        },
        {
          "output_type": "stream",
          "name": "stderr",
          "text": [
            "Epoch 33/50: 100%|██████████| 31/31 [00:00<00:00, 278.33it/s]\n"
          ]
        },
        {
          "output_type": "stream",
          "name": "stdout",
          "text": [
            "Epoch 33/50, Loss: 1.8460, Accuracy: 0.4582\n"
          ]
        },
        {
          "output_type": "stream",
          "name": "stderr",
          "text": [
            "Epoch 34/50: 100%|██████████| 31/31 [00:00<00:00, 277.33it/s]\n"
          ]
        },
        {
          "output_type": "stream",
          "name": "stdout",
          "text": [
            "Epoch 34/50, Loss: 1.8491, Accuracy: 0.4582\n"
          ]
        },
        {
          "output_type": "stream",
          "name": "stderr",
          "text": [
            "Epoch 35/50: 100%|██████████| 31/31 [00:00<00:00, 272.81it/s]\n"
          ]
        },
        {
          "output_type": "stream",
          "name": "stdout",
          "text": [
            "Epoch 35/50, Loss: 1.8570, Accuracy: 0.4582\n"
          ]
        },
        {
          "output_type": "stream",
          "name": "stderr",
          "text": [
            "Epoch 36/50: 100%|██████████| 31/31 [00:00<00:00, 269.18it/s]\n"
          ]
        },
        {
          "output_type": "stream",
          "name": "stdout",
          "text": [
            "Epoch 36/50, Loss: 1.8342, Accuracy: 0.4582\n"
          ]
        },
        {
          "output_type": "stream",
          "name": "stderr",
          "text": [
            "Epoch 37/50: 100%|██████████| 31/31 [00:00<00:00, 209.92it/s]\n"
          ]
        },
        {
          "output_type": "stream",
          "name": "stdout",
          "text": [
            "Epoch 37/50, Loss: 1.8473, Accuracy: 0.4582\n"
          ]
        },
        {
          "output_type": "stream",
          "name": "stderr",
          "text": [
            "Epoch 38/50: 100%|██████████| 31/31 [00:00<00:00, 216.68it/s]\n"
          ]
        },
        {
          "output_type": "stream",
          "name": "stdout",
          "text": [
            "Epoch 38/50, Loss: 1.8375, Accuracy: 0.4582\n"
          ]
        },
        {
          "output_type": "stream",
          "name": "stderr",
          "text": [
            "Epoch 39/50: 100%|██████████| 31/31 [00:00<00:00, 257.80it/s]\n"
          ]
        },
        {
          "output_type": "stream",
          "name": "stdout",
          "text": [
            "Epoch 39/50, Loss: 1.8482, Accuracy: 0.4582\n"
          ]
        },
        {
          "output_type": "stream",
          "name": "stderr",
          "text": [
            "Epoch 40/50: 100%|██████████| 31/31 [00:00<00:00, 276.95it/s]\n"
          ]
        },
        {
          "output_type": "stream",
          "name": "stdout",
          "text": [
            "Epoch 40/50, Loss: 1.8439, Accuracy: 0.4582\n"
          ]
        },
        {
          "output_type": "stream",
          "name": "stderr",
          "text": [
            "Epoch 41/50: 100%|██████████| 31/31 [00:00<00:00, 265.96it/s]\n"
          ]
        },
        {
          "output_type": "stream",
          "name": "stdout",
          "text": [
            "Epoch 41/50, Loss: 1.8600, Accuracy: 0.4582\n"
          ]
        },
        {
          "output_type": "stream",
          "name": "stderr",
          "text": [
            "Epoch 42/50: 100%|██████████| 31/31 [00:00<00:00, 280.03it/s]\n"
          ]
        },
        {
          "output_type": "stream",
          "name": "stdout",
          "text": [
            "Epoch 42/50, Loss: 1.8504, Accuracy: 0.4582\n"
          ]
        },
        {
          "output_type": "stream",
          "name": "stderr",
          "text": [
            "Epoch 43/50: 100%|██████████| 31/31 [00:00<00:00, 276.60it/s]\n"
          ]
        },
        {
          "output_type": "stream",
          "name": "stdout",
          "text": [
            "Epoch 43/50, Loss: 1.8498, Accuracy: 0.4582\n"
          ]
        },
        {
          "output_type": "stream",
          "name": "stderr",
          "text": [
            "Epoch 44/50: 100%|██████████| 31/31 [00:00<00:00, 252.74it/s]\n"
          ]
        },
        {
          "output_type": "stream",
          "name": "stdout",
          "text": [
            "Epoch 44/50, Loss: 1.8428, Accuracy: 0.4582\n"
          ]
        },
        {
          "output_type": "stream",
          "name": "stderr",
          "text": [
            "Epoch 45/50: 100%|██████████| 31/31 [00:00<00:00, 205.68it/s]\n"
          ]
        },
        {
          "output_type": "stream",
          "name": "stdout",
          "text": [
            "Epoch 45/50, Loss: 1.8413, Accuracy: 0.4582\n"
          ]
        },
        {
          "output_type": "stream",
          "name": "stderr",
          "text": [
            "Epoch 46/50: 100%|██████████| 31/31 [00:00<00:00, 226.72it/s]\n"
          ]
        },
        {
          "output_type": "stream",
          "name": "stdout",
          "text": [
            "Epoch 46/50, Loss: 1.8366, Accuracy: 0.4582\n"
          ]
        },
        {
          "output_type": "stream",
          "name": "stderr",
          "text": [
            "Epoch 47/50: 100%|██████████| 31/31 [00:00<00:00, 192.14it/s]\n"
          ]
        },
        {
          "output_type": "stream",
          "name": "stdout",
          "text": [
            "Epoch 47/50, Loss: 1.8455, Accuracy: 0.4582\n"
          ]
        },
        {
          "output_type": "stream",
          "name": "stderr",
          "text": [
            "Epoch 48/50: 100%|██████████| 31/31 [00:00<00:00, 197.03it/s]\n"
          ]
        },
        {
          "output_type": "stream",
          "name": "stdout",
          "text": [
            "Epoch 48/50, Loss: 1.8620, Accuracy: 0.4582\n"
          ]
        },
        {
          "output_type": "stream",
          "name": "stderr",
          "text": [
            "Epoch 49/50: 100%|██████████| 31/31 [00:00<00:00, 194.76it/s]\n"
          ]
        },
        {
          "output_type": "stream",
          "name": "stdout",
          "text": [
            "Epoch 49/50, Loss: 1.8480, Accuracy: 0.4582\n"
          ]
        },
        {
          "output_type": "stream",
          "name": "stderr",
          "text": [
            "Epoch 50/50: 100%|██████████| 31/31 [00:00<00:00, 211.12it/s]\n"
          ]
        },
        {
          "output_type": "stream",
          "name": "stdout",
          "text": [
            "Epoch 50/50, Loss: 1.8424, Accuracy: 0.4582\n"
          ]
        },
        {
          "output_type": "stream",
          "name": "stderr",
          "text": [
            "/usr/local/lib/python3.10/dist-packages/transformers/tokenization_utils_base.py:1601: FutureWarning: `clean_up_tokenization_spaces` was not set. It will be set to `True` by default. This behavior will be depracted in transformers v4.45, and will be then set to `False` by default. For more details check this issue: https://github.com/huggingface/transformers/issues/31884\n",
            "  warnings.warn(\n",
            "Some weights of BertForSequenceClassification were not initialized from the model checkpoint at bert-base-uncased and are newly initialized: ['classifier.bias', 'classifier.weight']\n",
            "You should probably TRAIN this model on a down-stream task to be able to use it for predictions and inference.\n"
          ]
        },
        {
          "output_type": "stream",
          "name": "stdout",
          "text": [
            "Training BERT Model with 10 Epochs\n"
          ]
        },
        {
          "output_type": "stream",
          "name": "stderr",
          "text": [
            "Epoch 1/10: 100%|██████████| 31/31 [00:10<00:00,  2.92it/s]\n"
          ]
        },
        {
          "output_type": "stream",
          "name": "stdout",
          "text": [
            "Epoch 1/10, Loss: 1.9640, Accuracy: 0.4479\n"
          ]
        },
        {
          "output_type": "stream",
          "name": "stderr",
          "text": [
            "Epoch 2/10: 100%|██████████| 31/31 [00:10<00:00,  2.90it/s]\n"
          ]
        },
        {
          "output_type": "stream",
          "name": "stdout",
          "text": [
            "Epoch 2/10, Loss: 1.6083, Accuracy: 0.5212\n"
          ]
        },
        {
          "output_type": "stream",
          "name": "stderr",
          "text": [
            "Epoch 3/10: 100%|██████████| 31/31 [00:10<00:00,  2.87it/s]\n"
          ]
        },
        {
          "output_type": "stream",
          "name": "stdout",
          "text": [
            "Epoch 3/10, Loss: 1.2310, Accuracy: 0.6326\n"
          ]
        },
        {
          "output_type": "stream",
          "name": "stderr",
          "text": [
            "Epoch 4/10: 100%|██████████| 31/31 [00:10<00:00,  2.88it/s]\n"
          ]
        },
        {
          "output_type": "stream",
          "name": "stdout",
          "text": [
            "Epoch 4/10, Loss: 0.9800, Accuracy: 0.7441\n"
          ]
        },
        {
          "output_type": "stream",
          "name": "stderr",
          "text": [
            "Epoch 5/10: 100%|██████████| 31/31 [00:10<00:00,  2.90it/s]\n"
          ]
        },
        {
          "output_type": "stream",
          "name": "stdout",
          "text": [
            "Epoch 5/10, Loss: 0.7276, Accuracy: 0.8029\n"
          ]
        },
        {
          "output_type": "stream",
          "name": "stderr",
          "text": [
            "Epoch 6/10: 100%|██████████| 31/31 [00:10<00:00,  2.93it/s]\n"
          ]
        },
        {
          "output_type": "stream",
          "name": "stdout",
          "text": [
            "Epoch 6/10, Loss: 0.5484, Accuracy: 0.8710\n"
          ]
        },
        {
          "output_type": "stream",
          "name": "stderr",
          "text": [
            "Epoch 7/10: 100%|██████████| 31/31 [00:11<00:00,  2.80it/s]\n"
          ]
        },
        {
          "output_type": "stream",
          "name": "stdout",
          "text": [
            "Epoch 7/10, Loss: 0.4227, Accuracy: 0.9092\n"
          ]
        },
        {
          "output_type": "stream",
          "name": "stderr",
          "text": [
            "Epoch 8/10: 100%|██████████| 31/31 [00:10<00:00,  2.95it/s]\n"
          ]
        },
        {
          "output_type": "stream",
          "name": "stdout",
          "text": [
            "Epoch 8/10, Loss: 0.3059, Accuracy: 0.9443\n"
          ]
        },
        {
          "output_type": "stream",
          "name": "stderr",
          "text": [
            "Epoch 9/10: 100%|██████████| 31/31 [00:10<00:00,  2.93it/s]\n"
          ]
        },
        {
          "output_type": "stream",
          "name": "stdout",
          "text": [
            "Epoch 9/10, Loss: 0.2244, Accuracy: 0.9732\n"
          ]
        },
        {
          "output_type": "stream",
          "name": "stderr",
          "text": [
            "Epoch 10/10: 100%|██████████| 31/31 [00:10<00:00,  2.86it/s]\n"
          ]
        },
        {
          "output_type": "stream",
          "name": "stdout",
          "text": [
            "Epoch 10/10, Loss: 0.1691, Accuracy: 0.9814\n"
          ]
        },
        {
          "output_type": "display_data",
          "data": {
            "text/plain": [
              "<Figure size 1200x600 with 2 Axes>"
            ],
            "image/png": "[encoded data removed]"
          },
          "metadata": {}
        }
      ]
    },
    {
      "cell_type": "code",
      "source": [
        "import torch\n",
        "import torch.optim as optim\n",
        "import torch.nn as nn\n",
        "from torch.optim.lr_scheduler import StepLR\n",
        "from torch.utils.data import DataLoader, Dataset\n",
        "import pandas as pd\n",
        "import re\n",
        "from collections import Counter\n",
        "import matplotlib.pyplot as plt\n",
        "from transformers import BertTokenizer, BertForSequenceClassification\n",
        "from tqdm import tqdm\n",
        "import time\n",
        "\n",
        "# Custom tokenizer function to split text into words\n",
        "def custom_tokenizer(text):\n",
        "    tokens = re.findall(r'\\b\\w+\\b', text.lower())\n",
        "    return tokens\n",
        "\n",
        "# Dataset preparation using the custom tokenizer\n",
        "class CustomIntentDataset(Dataset):\n",
        "    def __init__(self, df, vocab, max_len):\n",
        "        self.df = df\n",
        "        self.texts = df['Description'].values\n",
        "        self.labels = df['Category'].values\n",
        "        self.vocab = vocab\n",
        "        self.max_len = max_len\n",
        "\n",
        "        # Map categories to numerical labels\n",
        "        self.label_mapping = {label: idx for idx, label in enumerate(df['Category'].unique())}\n",
        "        self.df['Category'] = self.df['Category'].map(self.label_mapping)\n",
        "\n",
        "    def __len__(self):\n",
        "        return len(self.df)\n",
        "\n",
        "    def __getitem__(self, idx):\n",
        "        text = self.texts[idx]\n",
        "        label = self.df['Category'].iloc[idx]\n",
        "\n",
        "        # Tokenize text\n",
        "        tokens = custom_tokenizer(text)\n",
        "        token_ids = [self.vocab.get(token, 0) for token in tokens]\n",
        "\n",
        "        # Apply padding or truncation\n",
        "        if len(token_ids) < self.max_len:\n",
        "            token_ids = token_ids + [self.vocab['<PAD>']] * (self.max_len - len(token_ids))\n",
        "        else:\n",
        "            token_ids = token_ids[:self.max_len]\n",
        "\n",
        "        return {\n",
        "            'input_ids': torch.tensor(token_ids, dtype=torch.long),\n",
        "            'label': torch.tensor(label, dtype=torch.long)\n",
        "        }\n",
        "\n",
        "# Positional Encoding class\n",
        "class PositionalEncoding(nn.Module):\n",
        "    def __init__(self, embed_dim, max_len=5000):\n",
        "        super(PositionalEncoding, self).__init__()\n",
        "        pe = torch.zeros(max_len, embed_dim)\n",
        "        position = torch.arange(0, max_len, dtype=torch.float).unsqueeze(1)\n",
        "        div_term = torch.exp(torch.arange(0, embed_dim, 2).float() * (-torch.log(torch.tensor(10000.0)) / embed_dim))\n",
        "        pe[:, 0::2] = torch.sin(position * div_term)\n",
        "        pe[:, 1::2] = torch.cos(position * div_term)\n",
        "        pe = pe.unsqueeze(1)\n",
        "        self.register_buffer('pe', pe)\n",
        "\n",
        "    def forward(self, x):\n",
        "        seq_len = x.size(0)\n",
        "        x = x + self.pe[:seq_len]\n",
        "        return x\n",
        "\n",
        "# Custom Model for Intent Classification\n",
        "class EAMIntentClassifier(nn.Module):\n",
        "    def __init__(self, vocab_size, embed_dim, num_heads, num_classes, pool_factor=1):\n",
        "        super(EAMIntentClassifier, self).__init__()\n",
        "        self.embed_dim = embed_dim\n",
        "        self.embedding = nn.Embedding(vocab_size, embed_dim)\n",
        "        self.positional_encoding = PositionalEncoding(embed_dim)\n",
        "        self.token_pooling = TokenPooling(pool_factor)\n",
        "        self.fc_out = nn.Linear(embed_dim, num_classes)\n",
        "\n",
        "    def forward(self, x, attention_mask=None):\n",
        "        x = self.embedding(x)  # Shape: (batch_size, seq_len, embed_dim)\n",
        "        x = x.transpose(0, 1)  # (seq_len, batch_size, embed_dim)\n",
        "        x = self.positional_encoding(x)\n",
        "        x = x.transpose(0, 1)  # (batch_size, seq_len, embed_dim)\n",
        "        x = self.token_pooling(x)\n",
        "        x = self.fc_out(x.mean(dim=1))  # Global average pooling\n",
        "        return x\n",
        "\n",
        "# Training function for the EAM model with gradient clipping, memory tracking, and timing\n",
        "def train_eam_model(model, dataloader, criterion, optimizer, scheduler, epochs, device, grad_clip=None):\n",
        "    model.to(device)\n",
        "    train_losses = []\n",
        "    all_accuracies = []\n",
        "\n",
        "    # Track memory and time\n",
        "    start_time = time.time()\n",
        "    total_memory = []\n",
        "\n",
        "    for epoch in range(epochs):\n",
        "        model.train()\n",
        "        total_loss = 0\n",
        "        correct_predictions = 0\n",
        "        total_samples = 0\n",
        "\n",
        "        for batch in tqdm(dataloader, desc=f'Epoch {epoch+1}/{epochs}'):\n",
        "            texts_batch, labels_batch = batch['input_ids'].to(device), batch['label'].to(device)\n",
        "            optimizer.zero_grad()\n",
        "\n",
        "            outputs = model(texts_batch)\n",
        "            loss = criterion(outputs, labels_batch)\n",
        "            loss.backward()\n",
        "\n",
        "            # Gradient clipping\n",
        "            if grad_clip:\n",
        "                nn.utils.clip_grad_norm_(model.parameters(), grad_clip)\n",
        "\n",
        "            optimizer.step()\n",
        "\n",
        "            total_loss += loss.item()\n",
        "            _, predicted = torch.max(outputs, 1)\n",
        "            correct_predictions += (predicted == labels_batch).sum().item()\n",
        "            total_samples += labels_batch.size(0)\n",
        "\n",
        "            # Memory tracking\n",
        "            if device.type == 'cuda':\n",
        "                total_memory.append(torch.cuda.memory_allocated(device))\n",
        "\n",
        "        avg_loss = total_loss / len(dataloader)\n",
        "        accuracy = correct_predictions / total_samples\n",
        "\n",
        "        train_losses.append(avg_loss)\n",
        "        all_accuracies.append(accuracy)\n",
        "\n",
        "        print(f\"Epoch {epoch+1}/{epochs}, Loss: {avg_loss:.4f}, Accuracy: {accuracy:.4f}\")\n",
        "\n",
        "        # Learning rate scheduling\n",
        "        scheduler.step()\n",
        "\n",
        "    training_time = time.time() - start_time\n",
        "    print(f\"Total Training Time (EAM Model): {training_time:.2f} seconds\")\n",
        "\n",
        "    return train_losses, all_accuracies, total_memory, training_time\n",
        "\n",
        "# Load dataset\n",
        "df = pd.read_csv(\"/content/PROMISE_exp.csv\")\n",
        "\n",
        "# Tokenize and build vocabulary for custom model\n",
        "all_tokens = []\n",
        "for desc in df['Description']:\n",
        "    tokens = custom_tokenizer(desc)\n",
        "    all_tokens.extend(tokens)\n",
        "\n",
        "token_counts = Counter(all_tokens)\n",
        "vocab = {token: idx+1 for idx, (token, _) in enumerate(token_counts.most_common())}\n",
        "vocab['<PAD>'] = 0  # Padding token\n",
        "\n",
        "# Dataset and DataLoader for EAMIntentClassifier\n",
        "max_len = 50\n",
        "train_dataset_custom = CustomIntentDataset(df, vocab, max_len)\n",
        "train_loader_custom = DataLoader(train_dataset_custom, batch_size=32, shuffle=True)\n",
        "\n",
        "# Initialize the EAM model\n",
        "vocab_size = len(vocab)\n",
        "embed_dim = 16\n",
        "num_heads = 2\n",
        "num_classes = len(df['Category'].unique())\n",
        "\n",
        "eam_model = EAMIntentClassifier(vocab_size=vocab_size, embed_dim=embed_dim, num_heads=num_heads, num_classes=num_classes, pool_factor=2)\n",
        "\n",
        "# Optimizer and learning rate scheduler\n",
        "optimizer_eam = optim.AdamW(eam_model.parameters(), lr=0.001)\n",
        "scheduler = StepLR(optimizer_eam, step_size=5, gamma=0.1)  # Decays LR every 5 epochs\n",
        "criterion = nn.CrossEntropyLoss()\n",
        "\n",
        "# Train the EAM model with memory tracking and training time\n",
        "print(\"Training EAM Intent Classifier with 20 Epochs\")\n",
        "eam_losses, eam_accuracies, eam_memory, eam_training_time = train_eam_model(eam_model, train_loader_custom, criterion, optimizer_eam, scheduler, epochs=20, device=torch.device('cuda' if torch.cuda.is_available() else 'cpu'), grad_clip=1.0)\n",
        "\n",
        "# Train the BERT model with 10 epochs and memory tracking\n",
        "tokenizer_bert = BertTokenizer.from_pretrained('bert-base-uncased')\n",
        "bert_model = BertForSequenceClassification.from_pretrained('bert-base-uncased', num_labels=num_classes)\n",
        "\n",
        "# Dataset and DataLoader for BERT\n",
        "train_dataset_bert = BertIntentDataset(df, tokenizer_bert, max_len=64)\n",
        "train_loader_bert = DataLoader(train_dataset_bert, batch_size=32, shuffle=True)\n",
        "\n",
        "optimizer_bert = optim.AdamW(bert_model.parameters(), lr=2e-5)\n",
        "\n",
        "# Modified training function for BERT model (with memory tracking and timing)\n",
        "def train_bert_model(model, dataloader, criterion, optimizer, epochs, device):\n",
        "    model.to(device)\n",
        "    train_losses = []\n",
        "    all_accuracies = []\n",
        "\n",
        "    # Track memory and time\n",
        "    start_time = time.time()\n",
        "    total_memory = []\n",
        "\n",
        "    for epoch in range(epochs):\n",
        "        model.train()\n",
        "        total_loss = 0\n",
        "        correct_predictions = 0\n",
        "        total_samples = 0\n",
        "\n",
        "        for batch in tqdm(dataloader, desc=f'Epoch {epoch+1}/{epochs}'):\n",
        "            texts_batch, attention_mask_batch = batch['input_ids'].to(device), batch['attention_mask'].to(device)\n",
        "            labels_batch = batch['label'].to(device)\n",
        "            optimizer.zero_grad()\n",
        "\n",
        "            # Get model outputs (logits from the SequenceClassifierOutput)\n",
        "            outputs = model(texts_batch, attention_mask=attention_mask_batch)\n",
        "            logits = outputs.logits  # Extract logits for loss calculation\n",
        "            loss = criterion(logits, labels_batch)\n",
        "            loss.backward()\n",
        "            optimizer.step()\n",
        "\n",
        "            total_loss += loss.item()\n",
        "            _, predicted = torch.max(logits, 1)\n",
        "            correct_predictions += (predicted == labels_batch).sum().item()\n",
        "            total_samples += labels_batch.size(0)\n",
        "\n",
        "            # Memory tracking\n",
        "\n",
        "            # Memory tracking\n",
        "            if device.type == 'cuda':\n",
        "                total_memory.append(torch.cuda.memory_allocated(device))\n",
        "\n",
        "        avg_loss = total_loss / len(dataloader)\n",
        "        accuracy = correct_predictions / total_samples\n",
        "\n",
        "        train_losses.append(avg_loss)\n",
        "        all_accuracies.append(accuracy)\n",
        "\n",
        "        print(f\"Epoch {epoch+1}/{epochs}, Loss: {avg_loss:.4f}, Accuracy: {accuracy:.4f}\")\n",
        "\n",
        "    training_time = time.time() - start_time\n",
        "    print(f\"Total Training Time (BERT Model): {training_time:.2f} seconds\")\n",
        "\n",
        "    return train_losses, all_accuracies, total_memory, training_time\n",
        "\n",
        "# Train the BERT model with memory tracking and training time\n",
        "print(\"Training BERT Model with 10 Epochs\")\n",
        "bert_losses, bert_accuracies, bert_memory, bert_training_time = train_bert_model(bert_model, train_loader_bert, criterion, optimizer_bert, epochs=10, device=torch.device('cuda' if torch.cuda.is_available() else 'cpu'))\n",
        "\n",
        "# Plot Loss, Accuracy, Memory, and Training Time comparison\n",
        "plt.figure(figsize=(14, 8))\n",
        "\n",
        "# Plot Loss over Epochs for both models\n",
        "plt.subplot(2, 2, 1)\n",
        "plt.plot(eam_losses, label=\"EAM Model Loss (20 Epochs)\", color=\"blue\")\n",
        "plt.plot(bert_losses, label=\"BERT Model Loss (10 Epochs)\", color=\"red\")\n",
        "plt.xlabel(\"Epochs\")\n",
        "plt.ylabel(\"Loss\")\n",
        "plt.title(\"Loss Comparison: EAM Model vs BERT Model\")\n",
        "plt.legend()\n",
        "\n",
        "# Plot Accuracy over Epochs for both models\n",
        "plt.subplot(2, 2, 2)\n",
        "plt.plot(eam_accuracies, label=\"EAM Model Accuracy (20 Epochs)\", color=\"blue\")\n",
        "plt.plot(bert_accuracies, label=\"BERT Model Accuracy (10 Epochs)\", color=\"red\")\n",
        "plt.xlabel(\"Epochs\")\n",
        "plt.ylabel(\"Accuracy\")\n",
        "plt.title(\"Accuracy Comparison: EAM Model vs BERT Model\")\n",
        "plt.legend()\n",
        "\n",
        "# Plot Memory Usage for both models\n",
        "plt.subplot(2, 2, 3)\n",
        "plt.plot(eam_memory, label=\"EAM Model Memory Usage\", color=\"blue\")\n",
        "plt.plot(bert_memory, label=\"BERT Model Memory Usage\", color=\"red\")\n",
        "plt.xlabel(\"Training Steps\")\n",
        "plt.ylabel(\"Memory (bytes)\")\n",
        "plt.title(\"Memory Usage: EAM Model vs BERT Model\")\n",
        "plt.legend()\n",
        "\n",
        "# Plot Training Time for both models\n",
        "plt.subplot(2, 2, 4)\n",
        "plt.bar([\"EAM Model\", \"BERT Model\"], [eam_training_time, bert_training_time], color=[\"blue\", \"red\"])\n",
        "plt.ylabel(\"Training Time (seconds)\")\n",
        "plt.title(\"Training Time Comparison\")\n",
        "\n",
        "plt.tight_layout()\n",
        "plt.show()\n"
      ],
      "metadata": {
        "colab": {
          "base_uri": "https://localhost:8080/",
          "height": 1000
        },
        "id": "HGw0MRZhLIab",
        "outputId": "0e775904-17cc-418f-9b9e-951109db66aa"
      },
      "execution_count": 11,
      "outputs": [
        {
          "output_type": "stream",
          "name": "stdout",
          "text": [
            "Training EAM Intent Classifier with 20 Epochs\n"
          ]
        },
        {
          "output_type": "stream",
          "name": "stderr",
          "text": [
            "Epoch 1/20: 100%|██████████| 31/31 [00:00<00:00, 96.84it/s]\n"
          ]
        },
        {
          "output_type": "stream",
          "name": "stdout",
          "text": [
            "Epoch 1/20, Loss: 2.6110, Accuracy: 0.0506\n"
          ]
        },
        {
          "output_type": "stream",
          "name": "stderr",
          "text": [
            "Epoch 2/20: 100%|██████████| 31/31 [00:00<00:00, 96.34it/s]\n"
          ]
        },
        {
          "output_type": "stream",
          "name": "stdout",
          "text": [
            "Epoch 2/20, Loss: 2.3184, Accuracy: 0.1878\n"
          ]
        },
        {
          "output_type": "stream",
          "name": "stderr",
          "text": [
            "Epoch 3/20: 100%|██████████| 31/31 [00:00<00:00, 105.94it/s]\n"
          ]
        },
        {
          "output_type": "stream",
          "name": "stdout",
          "text": [
            "Epoch 3/20, Loss: 2.0944, Accuracy: 0.4458\n"
          ]
        },
        {
          "output_type": "stream",
          "name": "stderr",
          "text": [
            "Epoch 4/20: 100%|██████████| 31/31 [00:00<00:00, 96.03it/s]\n"
          ]
        },
        {
          "output_type": "stream",
          "name": "stdout",
          "text": [
            "Epoch 4/20, Loss: 1.9310, Accuracy: 0.4541\n"
          ]
        },
        {
          "output_type": "stream",
          "name": "stderr",
          "text": [
            "Epoch 5/20: 100%|██████████| 31/31 [00:00<00:00, 111.69it/s]\n"
          ]
        },
        {
          "output_type": "stream",
          "name": "stdout",
          "text": [
            "Epoch 5/20, Loss: 1.8684, Accuracy: 0.4572\n"
          ]
        },
        {
          "output_type": "stream",
          "name": "stderr",
          "text": [
            "Epoch 6/20: 100%|██████████| 31/31 [00:00<00:00, 109.79it/s]\n"
          ]
        },
        {
          "output_type": "stream",
          "name": "stdout",
          "text": [
            "Epoch 6/20, Loss: 1.8420, Accuracy: 0.4582\n"
          ]
        },
        {
          "output_type": "stream",
          "name": "stderr",
          "text": [
            "Epoch 7/20: 100%|██████████| 31/31 [00:00<00:00, 78.97it/s]\n"
          ]
        },
        {
          "output_type": "stream",
          "name": "stdout",
          "text": [
            "Epoch 7/20, Loss: 1.8401, Accuracy: 0.4582\n"
          ]
        },
        {
          "output_type": "stream",
          "name": "stderr",
          "text": [
            "Epoch 8/20: 100%|██████████| 31/31 [00:00<00:00, 98.28it/s]\n"
          ]
        },
        {
          "output_type": "stream",
          "name": "stdout",
          "text": [
            "Epoch 8/20, Loss: 1.8466, Accuracy: 0.4582\n"
          ]
        },
        {
          "output_type": "stream",
          "name": "stderr",
          "text": [
            "Epoch 9/20: 100%|██████████| 31/31 [00:00<00:00, 91.24it/s]\n"
          ]
        },
        {
          "output_type": "stream",
          "name": "stdout",
          "text": [
            "Epoch 9/20, Loss: 1.8402, Accuracy: 0.4582\n"
          ]
        },
        {
          "output_type": "stream",
          "name": "stderr",
          "text": [
            "Epoch 10/20: 100%|██████████| 31/31 [00:00<00:00, 126.60it/s]\n"
          ]
        },
        {
          "output_type": "stream",
          "name": "stdout",
          "text": [
            "Epoch 10/20, Loss: 1.8408, Accuracy: 0.4582\n"
          ]
        },
        {
          "output_type": "stream",
          "name": "stderr",
          "text": [
            "Epoch 11/20: 100%|██████████| 31/31 [00:00<00:00, 169.93it/s]\n"
          ]
        },
        {
          "output_type": "stream",
          "name": "stdout",
          "text": [
            "Epoch 11/20, Loss: 1.8369, Accuracy: 0.4582\n"
          ]
        },
        {
          "output_type": "stream",
          "name": "stderr",
          "text": [
            "Epoch 12/20: 100%|██████████| 31/31 [00:00<00:00, 180.22it/s]\n"
          ]
        },
        {
          "output_type": "stream",
          "name": "stdout",
          "text": [
            "Epoch 12/20, Loss: 1.8317, Accuracy: 0.4582\n"
          ]
        },
        {
          "output_type": "stream",
          "name": "stderr",
          "text": [
            "Epoch 13/20: 100%|██████████| 31/31 [00:00<00:00, 161.64it/s]\n"
          ]
        },
        {
          "output_type": "stream",
          "name": "stdout",
          "text": [
            "Epoch 13/20, Loss: 1.8374, Accuracy: 0.4582\n"
          ]
        },
        {
          "output_type": "stream",
          "name": "stderr",
          "text": [
            "Epoch 14/20: 100%|██████████| 31/31 [00:00<00:00, 176.89it/s]\n"
          ]
        },
        {
          "output_type": "stream",
          "name": "stdout",
          "text": [
            "Epoch 14/20, Loss: 1.8300, Accuracy: 0.4582\n"
          ]
        },
        {
          "output_type": "stream",
          "name": "stderr",
          "text": [
            "Epoch 15/20: 100%|██████████| 31/31 [00:00<00:00, 132.26it/s]\n"
          ]
        },
        {
          "output_type": "stream",
          "name": "stdout",
          "text": [
            "Epoch 15/20, Loss: 1.8402, Accuracy: 0.4582\n"
          ]
        },
        {
          "output_type": "stream",
          "name": "stderr",
          "text": [
            "Epoch 16/20: 100%|██████████| 31/31 [00:00<00:00, 181.48it/s]\n"
          ]
        },
        {
          "output_type": "stream",
          "name": "stdout",
          "text": [
            "Epoch 16/20, Loss: 1.8246, Accuracy: 0.4582\n"
          ]
        },
        {
          "output_type": "stream",
          "name": "stderr",
          "text": [
            "Epoch 17/20: 100%|██████████| 31/31 [00:00<00:00, 179.01it/s]\n"
          ]
        },
        {
          "output_type": "stream",
          "name": "stdout",
          "text": [
            "Epoch 17/20, Loss: 1.8299, Accuracy: 0.4582\n"
          ]
        },
        {
          "output_type": "stream",
          "name": "stderr",
          "text": [
            "Epoch 18/20: 100%|██████████| 31/31 [00:00<00:00, 169.64it/s]\n"
          ]
        },
        {
          "output_type": "stream",
          "name": "stdout",
          "text": [
            "Epoch 18/20, Loss: 1.8449, Accuracy: 0.4582\n"
          ]
        },
        {
          "output_type": "stream",
          "name": "stderr",
          "text": [
            "Epoch 19/20: 100%|██████████| 31/31 [00:00<00:00, 178.34it/s]\n"
          ]
        },
        {
          "output_type": "stream",
          "name": "stdout",
          "text": [
            "Epoch 19/20, Loss: 1.8437, Accuracy: 0.4582\n"
          ]
        },
        {
          "output_type": "stream",
          "name": "stderr",
          "text": [
            "Epoch 20/20: 100%|██████████| 31/31 [00:00<00:00, 137.60it/s]\n"
          ]
        },
        {
          "output_type": "stream",
          "name": "stdout",
          "text": [
            "Epoch 20/20, Loss: 1.8317, Accuracy: 0.4582\n",
            "Total Training Time (EAM Model): 5.25 seconds\n"
          ]
        },
        {
          "output_type": "stream",
          "name": "stderr",
          "text": [
            "/usr/local/lib/python3.10/dist-packages/transformers/tokenization_utils_base.py:1601: FutureWarning: `clean_up_tokenization_spaces` was not set. It will be set to `True` by default. This behavior will be depracted in transformers v4.45, and will be then set to `False` by default. For more details check this issue: https://github.com/huggingface/transformers/issues/31884\n",
            "  warnings.warn(\n",
            "Some weights of BertForSequenceClassification were not initialized from the model checkpoint at bert-base-uncased and are newly initialized: ['classifier.bias', 'classifier.weight']\n",
            "You should probably TRAIN this model on a down-stream task to be able to use it for predictions and inference.\n"
          ]
        },
        {
          "output_type": "stream",
          "name": "stdout",
          "text": [
            "Training BERT Model with 10 Epochs\n"
          ]
        },
        {
          "output_type": "stream",
          "name": "stderr",
          "text": [
            "Epoch 1/10: 100%|██████████| 31/31 [00:10<00:00,  2.94it/s]\n"
          ]
        },
        {
          "output_type": "stream",
          "name": "stdout",
          "text": [
            "Epoch 1/10, Loss: 1.9768, Accuracy: 0.4561\n"
          ]
        },
        {
          "output_type": "stream",
          "name": "stderr",
          "text": [
            "Epoch 2/10: 100%|██████████| 31/31 [00:10<00:00,  2.89it/s]\n"
          ]
        },
        {
          "output_type": "stream",
          "name": "stdout",
          "text": [
            "Epoch 2/10, Loss: 1.5443, Accuracy: 0.5263\n"
          ]
        },
        {
          "output_type": "stream",
          "name": "stderr",
          "text": [
            "Epoch 3/10: 100%|██████████| 31/31 [00:10<00:00,  2.89it/s]\n"
          ]
        },
        {
          "output_type": "stream",
          "name": "stdout",
          "text": [
            "Epoch 3/10, Loss: 1.1967, Accuracy: 0.6522\n"
          ]
        },
        {
          "output_type": "stream",
          "name": "stderr",
          "text": [
            "Epoch 4/10: 100%|██████████| 31/31 [00:10<00:00,  2.89it/s]\n"
          ]
        },
        {
          "output_type": "stream",
          "name": "stdout",
          "text": [
            "Epoch 4/10, Loss: 0.9602, Accuracy: 0.7430\n"
          ]
        },
        {
          "output_type": "stream",
          "name": "stderr",
          "text": [
            "Epoch 5/10: 100%|██████████| 31/31 [00:10<00:00,  2.91it/s]\n"
          ]
        },
        {
          "output_type": "stream",
          "name": "stdout",
          "text": [
            "Epoch 5/10, Loss: 0.7797, Accuracy: 0.7895\n"
          ]
        },
        {
          "output_type": "stream",
          "name": "stderr",
          "text": [
            "Epoch 6/10: 100%|██████████| 31/31 [00:10<00:00,  2.92it/s]\n"
          ]
        },
        {
          "output_type": "stream",
          "name": "stdout",
          "text": [
            "Epoch 6/10, Loss: 0.6704, Accuracy: 0.8266\n"
          ]
        },
        {
          "output_type": "stream",
          "name": "stderr",
          "text": [
            "Epoch 7/10: 100%|██████████| 31/31 [00:10<00:00,  2.91it/s]\n"
          ]
        },
        {
          "output_type": "stream",
          "name": "stdout",
          "text": [
            "Epoch 7/10, Loss: 0.5326, Accuracy: 0.8535\n"
          ]
        },
        {
          "output_type": "stream",
          "name": "stderr",
          "text": [
            "Epoch 8/10: 100%|██████████| 31/31 [00:10<00:00,  2.92it/s]\n"
          ]
        },
        {
          "output_type": "stream",
          "name": "stdout",
          "text": [
            "Epoch 8/10, Loss: 0.4168, Accuracy: 0.8958\n"
          ]
        },
        {
          "output_type": "stream",
          "name": "stderr",
          "text": [
            "Epoch 9/10: 100%|██████████| 31/31 [00:10<00:00,  2.94it/s]\n"
          ]
        },
        {
          "output_type": "stream",
          "name": "stdout",
          "text": [
            "Epoch 9/10, Loss: 0.3278, Accuracy: 0.9329\n"
          ]
        },
        {
          "output_type": "stream",
          "name": "stderr",
          "text": [
            "Epoch 10/10: 100%|██████████| 31/31 [00:10<00:00,  2.93it/s]\n"
          ]
        },
        {
          "output_type": "stream",
          "name": "stdout",
          "text": [
            "Epoch 10/10, Loss: 0.2374, Accuracy: 0.9608\n",
            "Total Training Time (BERT Model): 106.46 seconds\n"
          ]
        },
        {
          "output_type": "display_data",
          "data": {
            "text/plain": [
              "<Figure size 1400x800 with 4 Axes>"
            ],
            "image/png": "[encoded data removed]"
          },
          "metadata": {}
        }
      ]
    },
    {
      "cell_type": "code",
      "source": [],
      "metadata": {
        "id": "MGW75SEaMnHb"
      },
      "execution_count": null,
      "outputs": []
    }
  ]
}